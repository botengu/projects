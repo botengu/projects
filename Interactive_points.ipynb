{
 "cells": [
  {
   "cell_type": "code",
   "execution_count": 3,
   "metadata": {},
   "outputs": [],
   "source": [
    "%matplotlib tk\n",
    "import numpy as np\n",
    "import matplotlib.pyplot as plt\n",
    "\n",
    "fig = plt.figure()\n",
    "ax = fig.add_subplot(111)\n",
    "ax.set_xlim([0, 10])\n",
    "ax.set_ylim([0, 10])\n",
    "\n",
    "coords = []\n",
    "\n",
    "def onclick(event):\n",
    "    plt.scatter(event.xdata, event.ydata)\n",
    "    fig.canvas.draw()\n",
    "    global ix, iy\n",
    "    ix, iy = event.xdata, event.ydata\n",
    "    \n",
    "    global coords\n",
    "    coords.append((ix, iy))\n",
    "\n",
    "    if len(coords) == 15:\n",
    "        fig.canvas.mpl_disconnect(cid)\n",
    "\n",
    "    return coords\n",
    "cid = fig.canvas.mpl_connect('button_press_event', onclick)\n"
   ]
  },
  {
   "cell_type": "code",
   "execution_count": 4,
   "metadata": {},
   "outputs": [
    {
     "name": "stdout",
     "output_type": "stream",
     "text": [
      "[(1.411290322580645, 2.0346320346320352), (0.7258064516129035, 3.630952380952382), (2.2580645161290325, 4.686147186147187), (4.133064516129032, 7.121212121212121), (9.193548387096774, 2.765151515151516), (6.330645161290322, 1.2229437229437234), (6.169354838709678, 3.4956709956709964), (4.959677419354838, 0.952380952380953), (2.7419354838709675, 0.6277056277056281), (3.0040322580645165, 2.927489177489178)]\n"
     ]
    }
   ],
   "source": [
    "print(coords)"
   ]
  },
  {
   "cell_type": "code",
   "execution_count": null,
   "metadata": {},
   "outputs": [],
   "source": [
    "fig.canvas.mpl_disconnect(cid)"
   ]
  },
  {
   "cell_type": "code",
   "execution_count": 4,
   "metadata": {},
   "outputs": [],
   "source": [
    "coords = np.array(coords)\n",
    "coords = np.vstack((coords,coords[0,:] ))\n",
    "\n",
    "# Function from https://towardsdatascience.com/b%C3%A9zier-interpolation-8033e9a262c2\n",
    "\n",
    "# find the a & b points\n",
    "def get_bezier_coef(points):\n",
    "    # since the formulas work given that we have n+1 points\n",
    "    # then n must be this:\n",
    "    n = len(points) - 1\n",
    "\n",
    "    # build coefficents matrix\n",
    "    C = 4 * np.identity(n)\n",
    "    np.fill_diagonal(C[1:], 1)\n",
    "    np.fill_diagonal(C[:, 1:], 1)\n",
    "    C[0, 0] = 2\n",
    "    C[n - 1, n - 1] = 7\n",
    "    C[n - 1, n - 2] = 2\n",
    "\n",
    "    # build points vector\n",
    "    P = [2 * (2 * points[i] + points[i + 1]) for i in range(n)]\n",
    "    P[0] = points[0] + 2 * points[1]\n",
    "    P[n - 1] = 8 * points[n - 1] + points[n]\n",
    "\n",
    "    # solve system, find a & b\n",
    "    A = np.linalg.solve(C, P)\n",
    "    B = [0] * n\n",
    "    for i in range(n - 1):\n",
    "        B[i] = 2 * points[i + 1] - A[i + 1]\n",
    "    B[n - 1] = (A[n - 1] + points[n]) / 2\n",
    "\n",
    "    return A, B\n",
    "\n",
    "# returns the general Bezier cubic formula given 4 control points\n",
    "def get_cubic(a, b, c, d):\n",
    "    return lambda t: np.power(1 - t, 3) * a + 3 * np.power(1 - t, 2) * t * b + 3 * (1 - t) * np.power(t, 2) * c + np.power(t, 3) * d\n",
    "\n",
    "# return one cubic curve for each consecutive points\n",
    "def get_bezier_cubic(points):\n",
    "    A, B = get_bezier_coef(points)\n",
    "    return [\n",
    "        get_cubic(points[i], A[i], B[i], points[i + 1])\n",
    "        for i in range(len(points) - 1)\n",
    "    ]\n",
    "\n",
    "# evalute each cubic curve on the range [0, 1] sliced in n points\n",
    "def evaluate_bezier(points, n):\n",
    "    curves = get_bezier_cubic(points)\n",
    "    return np.array([fun(t) for fun in curves for t in np.linspace(0, 1, n)])\n",
    "\n",
    "# generate 5 (or any number that you want) random points that we want to fit (or set them youreself)\n",
    "points = np.random.rand(5, 2)\n",
    "\n",
    "# fit the points with Bezier interpolation\n",
    "# use 50 points between each consecutive points to draw the curve\n",
    "path = evaluate_bezier(coords, 50)\n",
    "\n",
    "# extract x & y coordinates of points\n",
    "x, y = points[:,0], points[:,1]\n",
    "px, py = path[:,0], path[:,1]\n",
    "\n",
    "''' '''\n",
    "# plot\n",
    "plt.figure(figsize=(11, 8))\n",
    "plt.plot(px, py, 'b-')\n",
    "plt.show()"
   ]
  },
  {
   "cell_type": "code",
   "execution_count": null,
   "metadata": {},
   "outputs": [],
   "source": []
  }
 ],
 "metadata": {
  "kernelspec": {
   "display_name": "Python 3",
   "language": "python",
   "name": "python3"
  },
  "language_info": {
   "codemirror_mode": {
    "name": "ipython",
    "version": 3
   },
   "file_extension": ".py",
   "mimetype": "text/x-python",
   "name": "python",
   "nbconvert_exporter": "python",
   "pygments_lexer": "ipython3",
   "version": "3.8.5"
  }
 },
 "nbformat": 4,
 "nbformat_minor": 4
}
