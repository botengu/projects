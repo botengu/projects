{
 "cells": [
  {
   "cell_type": "code",
   "execution_count": 29,
   "metadata": {},
   "outputs": [],
   "source": [
    "%matplotlib tk\n",
    "import numpy as np\n",
    "import matplotlib.pyplot as plt\n",
    "import sys\n",
    "sys.path.insert(1, 'C:/Users/AdminSi/Desktop/CAGD/Python/')\n",
    "from Bezier_Interpolation import evaluate_bezier\n",
    "\n",
    "\n",
    "fig = plt.figure()\n",
    "ax = fig.add_subplot(111)\n",
    "ax.set_xlim([0, 10])\n",
    "ax.set_ylim([0, 10])\n",
    "\n",
    "coords = []\n",
    "\n",
    "def onclick(event):\n",
    "    plt.scatter(event.xdata, event.ydata)\n",
    "    fig.canvas.draw()\n",
    "    global ix, iy\n",
    "    ix, iy = event.xdata, event.ydata\n",
    "    \n",
    "    global coords\n",
    "    coords.append((ix, iy))\n",
    "\n",
    "    if len(coords) == 15:\n",
    "        fig.canvas.mpl_disconnect(cid)\n",
    "\n",
    "    return coords\n",
    "cid = fig.canvas.mpl_connect('button_press_event', onclick)"
   ]
  },
  {
   "cell_type": "code",
   "execution_count": 30,
   "metadata": {},
   "outputs": [],
   "source": [
    "fig.canvas.mpl_disconnect(cid)"
   ]
  },
  {
   "cell_type": "code",
   "execution_count": 31,
   "metadata": {},
   "outputs": [
    {
     "data": {
      "text/plain": [
       "'\\n'"
      ]
     },
     "execution_count": 31,
     "metadata": {},
     "output_type": "execute_result"
    }
   ],
   "source": [
    "\n",
    "\n",
    "#points = [(2.0161290322580645, 4.496753246753247), (1.2903225806451615, 6.30952380952381), (3.0241935483870965, 7.851731601731602), (6.754032258064516, 8.14935064935065), (8.629032258064516, 3.8203463203463213), (5.64516129032258, 1.331168831168832), (6.189516129032258, 4.6320346320346335), (4.556451612903226, 3.4956709956709964), (2.217741935483871, 2.467532467532468)]\n",
    "\n",
    "#points2 = [(1.411290322580645, 2.0346320346320352), (0.7258064516129035, 3.630952380952382), (2.2580645161290325, 4.686147186147187), (4.133064516129032, 7.121212121212121), (9.193548387096774, 2.765151515151516), (6.330645161290322, 1.2229437229437234), (6.169354838709678, 3.4956709956709964), (4.959677419354838, 0.952380952380953), (2.7419354838709675, 0.6277056277056281), (3.0040322580645165, 2.927489177489178)]\n",
    "#points = np.random.rand(7, 2)\n",
    "\n",
    "\n",
    "points = np.array(coords)\n",
    "\n",
    "points = np.vstack([points,points[0,:]])\n",
    "\n",
    "\n",
    "\n",
    "pts = evaluate_bezier(points,50)\n",
    "\n",
    "plt.figure(figsize=(11, 8))\n",
    "plt.plot(pts[:,0], pts[:,1], 'b-')\n",
    "plt.plot(points[:,0], points[:,1], 'ro')\n",
    "plt.show()\n",
    "'''\n",
    "'''\n"
   ]
  },
  {
   "cell_type": "code",
   "execution_count": 35,
   "metadata": {},
   "outputs": [],
   "source": [
    "N = 50 \n",
    "z = pts[:,0]+1j*pts[:,1]\n",
    "\n",
    "coeff_1 = np.fft.fft(z)\n",
    "\n",
    "coeff_r = coeff_1.real\n",
    "coeff_i = coeff_1.imag\n",
    "\n",
    "\n",
    "# Centralized shift \n",
    "\n",
    "coeff_r = np.hstack([coeff_r[int(N/2):N], coeff_r[0:int(N/2)]])\n",
    "coeff_i = np.hstack([coeff_i[int(N/2):N], coeff_i[0:int(N/2)]])\n",
    " \n",
    "\n",
    "z1 = np.vstack([coeff_r ,coeff_i ])\n",
    " \n",
    "fig, axes = plt.subplots(nrows=2, ncols=1, figsize=(5, 5))\n",
    "axes[0].imshow(-z1, cmap='coolwarm')\n",
    "axes[1].plot(coeff_r)\n",
    "axes[1].plot(coeff_i)\n",
    "plt.show()\n",
    "\n"
   ]
  },
  {
   "cell_type": "code",
   "execution_count": 34,
   "metadata": {},
   "outputs": [
    {
     "name": "stdout",
     "output_type": "stream",
     "text": [
      "[-3.50840179e-02 -3.83115083e-02 -5.05447711e-02 -3.43736843e-02\n",
      " -5.03510477e-02 -2.88310053e-02 -2.98141159e-02 -3.02079661e-02\n",
      " -2.24141051e-02 -1.37635832e-02 -2.05061160e-02 -2.27920855e-02\n",
      " -1.89484824e-02 -1.95843985e-02 -2.07722566e-02 -1.36337548e-02\n",
      " -1.64709731e-02 -2.50898270e-02 -1.62287868e-02 -2.71347098e-02\n",
      " -1.29319928e-02 -1.41347449e-02 -1.54596052e-02 -1.03984172e-02\n",
      " -4.80318112e-03  6.69030777e+01  4.24002065e+00  2.54753841e+00\n",
      " -9.34943612e-01 -3.57721600e+00 -1.00571091e+00  5.54425267e-01\n",
      " -1.41661792e-01 -1.26864438e+00 -6.39072720e-01 -1.26080100e-01\n",
      " -1.86216553e-01 -2.21143435e-01 -1.46736390e-01 -1.67379726e-01\n",
      " -1.13638814e-01 -1.05605739e-01 -9.59608989e-02 -7.53440940e-02\n",
      " -5.75743698e-02 -6.05430759e-02 -5.59339730e-02 -5.01990757e-02\n",
      " -5.92715790e-02 -5.41481258e-02]\n"
     ]
    }
   ],
   "source": [
    "print(coeff_i)"
   ]
  },
  {
   "cell_type": "code",
   "execution_count": null,
   "metadata": {},
   "outputs": [],
   "source": []
  }
 ],
 "metadata": {
  "kernelspec": {
   "display_name": "Python 3",
   "language": "python",
   "name": "python3"
  },
  "language_info": {
   "codemirror_mode": {
    "name": "ipython",
    "version": 3
   },
   "file_extension": ".py",
   "mimetype": "text/x-python",
   "name": "python",
   "nbconvert_exporter": "python",
   "pygments_lexer": "ipython3",
   "version": "3.8.5"
  }
 },
 "nbformat": 4,
 "nbformat_minor": 4
}
