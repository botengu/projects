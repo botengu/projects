{
 "cells": [
  {
   "cell_type": "code",
   "execution_count": 39,
   "metadata": {},
   "outputs": [
    {
     "name": "stderr",
     "output_type": "stream",
     "text": [
      "<ipython-input-39-70457e0d0a3c>:60: FutureWarning: `rcond` parameter will change to the default of machine precision times ``max(M, N)`` where M and N are the input matrix dimensions.\n",
      "To use the future default and silence this warning we advise to pass `rcond=None`, to keep using the old, explicitly pass `rcond=-1`.\n",
      "  U[freedofs,:] = np.linalg.lstsq(K[freedofs[:,None],freedofs],  F[freedofs,:])[0]\n"
     ]
    },
    {
     "data": {
      "image/png": "[encoded data removed]",
      "text/plain": [
       "<Figure size 432x288 with 1 Axes>"
      ]
     },
     "metadata": {
      "needs_background": "light"
     },
     "output_type": "display_data"
    },
    {
     "data": {
      "text/plain": [
       "\"\\nc = np.zeros([nely+1,nelx+1],dtype=float)         \\n\\n# Multiply K by U to get forces\\n# https://matplotlib.org/3.1.0/api/_as_gen/matplotlib.pyplot.quiver.html\\nfor i in range(nely+1):\\n    for j in range(nelx+1): \\n        c[i,j] = Ure[i,j,:].dot(Ure[i,j,:])\\n\\n#colorsa = cm.coolwarm(c/np.max(c))\\n\\ncolorsa = cm.coolwarm(strain/np.max(strain))\\n\\nfor x, y in [(x,y) for x in range(nely+1) for y in range(nelx+1)]:\\n    plt.scatter(x, y, color=colorsa[x,y,:])\\n\\n#plt.plot(Y, X, 'o', color=colorsa);\\n\""
      ]
     },
     "execution_count": 39,
     "metadata": {},
     "output_type": "execute_result"
    }
   ],
   "source": [
    "# 2D Stress field \n",
    "\n",
    "# With contours \n",
    "\n",
    "# Creation of boundary conditions \n",
    "\n",
    "import csv\n",
    "import numpy as np \n",
    "import math \n",
    "import matplotlib.pyplot as plt\n",
    "from scipy.sparse import csr_matrix\n",
    "from scipy.sparse import coo_matrix\n",
    "from scipy.sparse.linalg import spsolve\n",
    "from matplotlib import colors\n",
    "from matplotlib import cm\n",
    "\n",
    "\n",
    "\n",
    "def lk():\n",
    "    E=1\n",
    "    nu=0.3\n",
    "    k=np.array([1/2-nu/6,1/8+nu/8,-1/4-nu/12,-1/8+3*nu/8,-1/4+nu/12,-1/8-nu/8,nu/6,1/8-3*nu/8])\n",
    "    KE = E/(1-nu**2)*np.array([ [k[0], k[1], k[2], k[3], k[4], k[5], k[6], k[7]],\n",
    "    [k[1], k[0], k[7], k[6], k[5], k[4], k[3], k[2]],\n",
    "    [k[2], k[7], k[0], k[5], k[6], k[3], k[4], k[1]],\n",
    "    [k[3], k[6], k[5], k[0], k[7], k[2], k[1], k[4]],\n",
    "    [k[4], k[5], k[6], k[7], k[0], k[1], k[2], k[3]],\n",
    "    [k[5], k[4], k[3], k[2], k[1], k[0], k[7], k[6]],\n",
    "    [k[6], k[3], k[4], k[1], k[2], k[7], k[0], k[5]],\n",
    "    [k[7], k[2], k[1], k[4], k[3], k[6], k[5], k[0]] ])\n",
    "    return (KE)\n",
    "\n",
    "def FE(nelx,nely,x): \n",
    "    KE=lk()\n",
    "    K = np.zeros( (2*(nelx+1)*(nely+1), 2*(nelx+1)*(nely+1)),dtype=float)\n",
    "    K = csr_matrix(K).todense()\n",
    "    \n",
    "    \n",
    "    F = np.zeros((2*(nely+1)*(nelx+1), 1), dtype=float)\n",
    "    \n",
    "    F = csr_matrix(F).todense()\n",
    "    U = np.zeros((2*(nely+1)*(nelx+1),1), dtype=float)\n",
    "\n",
    "    for elx in range(nelx):\n",
    "        for ely in range(nely):\n",
    "            n1=(nely+1)*(elx)+ely+1\n",
    "            n2=(nely+1)*(elx+1)+ely+1\n",
    "            edof = np.array([2*n1-2, 2*n1-1, 2*n2-2, 2*n2-1, 2*n2, 2*n2+1, 2*n1, 2*n1+1])\n",
    "\n",
    "            K[edof[:,None], edof] = K[edof[:,None], edof]  + x[ely,elx]*KE \n",
    "\n",
    "    # FORCE IS HERE\n",
    "    F[2*(int(nelx/2+1))*(nely+1)-1]= -1\n",
    "    alldofs  =  list(np.arange(2*(nely+1)*(nelx+1)))\n",
    "    #fixeddofs = list( np.arange(2*(nely+1)))\n",
    "    fixeddofs =[2*(nely+1)-2,2*(nely+1)-1,2*(nely+1)*(nelx+1)-2,2*(nely+1)*(nelx+1)-1]\n",
    "    #fixeddofs =[0,1,2*(nely)*(nelx+1),2*(nely)*(nelx+1)+1]\n",
    "    freedofs = np.array((list(set(alldofs) - set(fixeddofs))))\n",
    "\n",
    "    U[freedofs,:] = np.linalg.lstsq(K[freedofs[:,None],freedofs],  F[freedofs,:])[0]\n",
    "    U[fixeddofs,:]= 0 \n",
    "\n",
    "    return U, K \n",
    "\n",
    "\n",
    "\n",
    "# Actual drive  of the program \n",
    "nely = 10\n",
    "nelx = 10\n",
    "\n",
    "\n",
    "# Initialize \n",
    "x=np.ones([nely,nelx],dtype=float) \n",
    "\n",
    "\n",
    "#xold = x.copy() \n",
    "U, K = FE(nelx, nely,x)\n",
    "\n",
    "\n",
    "# The array of nelx and nely \n",
    "X,Y = np.meshgrid(np.arange(nely+1,0,-1),np.arange(0, nelx+1))\n",
    "Ure = np.reshape(U,(nely+1,nelx+1,2))\n",
    "U1 = Ure[:,:,0]\n",
    "U2 = Ure[:,:,1]\n",
    "\n",
    "strain = 1/2*(U1+U2)\n",
    "\n",
    "\n",
    "plt.figure()\n",
    "plt.title('Displacement Plot')\n",
    "Q = plt.quiver(Y, X, U1, U2, units='width')\n",
    "plt.show()\n",
    "\n",
    "'''\n",
    "c = np.zeros([nely+1,nelx+1],dtype=float)         \n",
    "\n",
    "# Multiply K by U to get forces\n",
    "# https://matplotlib.org/3.1.0/api/_as_gen/matplotlib.pyplot.quiver.html\n",
    "for i in range(nely+1):\n",
    "    for j in range(nelx+1): \n",
    "        c[i,j] = Ure[i,j,:].dot(Ure[i,j,:])\n",
    "\n",
    "#colorsa = cm.coolwarm(c/np.max(c))\n",
    "\n",
    "colorsa = cm.coolwarm(strain/np.max(strain))\n",
    "\n",
    "for x, y in [(x,y) for x in range(nely+1) for y in range(nelx+1)]:\n",
    "    plt.scatter(x, y, color=colorsa[x,y,:])\n",
    "\n",
    "#plt.plot(Y, X, 'o', color=colorsa);\n",
    "'''"
   ]
  },
  {
   "cell_type": "code",
   "execution_count": 65,
   "metadata": {},
   "outputs": [
    {
     "name": "stdout",
     "output_type": "stream",
     "text": [
      "0.10107548508214613\n",
      "1.0\n"
     ]
    }
   ],
   "source": [
    "print(np.average(c/np.max(c)))\n",
    "print(np.max((c/np.max(c))))\n"
   ]
  }
 ],
 "metadata": {
  "kernelspec": {
   "display_name": "Python 3",
   "language": "python",
   "name": "python3"
  },
  "language_info": {
   "codemirror_mode": {
    "name": "ipython",
    "version": 3
   },
   "file_extension": ".py",
   "mimetype": "text/x-python",
   "name": "python",
   "nbconvert_exporter": "python",
   "pygments_lexer": "ipython3",
   "version": "3.8.5"
  }
 },
 "nbformat": 4,
 "nbformat_minor": 4
}
