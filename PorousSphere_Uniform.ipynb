{
 "cells": [
  {
   "cell_type": "code",
   "execution_count": 1,
   "metadata": {},
   "outputs": [],
   "source": [
    "# Imports \n",
    "import numpy as np\n",
    "import random\n",
    "import visvis as vv\n",
    "import scipy\n",
    "import math \n",
    "import skimage\n",
    "from skimage import measure\n",
    "from numpy import sin, cos, sinh, cosh,arcsin,arccos, pi, exp\n",
    "from visvis import Point, Pointset\n",
    "from scipy.spatial import Voronoi, voronoi_plot_2d, distance "
   ]
  },
  {
   "cell_type": "code",
   "execution_count": null,
   "metadata": {},
   "outputs": [],
   "source": [
    "# Hexagonal structure \n",
    "axes = vv.gca()\n",
    "\n",
    "# Creating a single unit cell\n",
    "def polygon(center, n_sides, rho): \n",
    "    pp = Pointset(3)\n",
    "    phi = pi/2 \n",
    "    for i in range(int(n_sides)):\n",
    "        #for  j in range(int(pi/angle)):\n",
    "        #phi = 2*pi/n_sides*j\n",
    "        theta = 2*pi/n_sides*i\n",
    "        x = rho*sin(phi)*cos(theta)\n",
    "        y = rho*sin(phi)*sin(theta)\n",
    "        z = 0 # rho*cos(phi)\n",
    "        pt = Point(center[0]+x, center[1]+y, center[2]+z)\n",
    "        pp.append(pt)  \n",
    "        \n",
    "    pp.append(pp[0])\n",
    "    l = vv.Line(axes, pp)\n",
    "    return l\n",
    "\n",
    "\n",
    "# Replicating the unit cell at multiple level ( first one the range is 0, second one the range is 6, then 36 etc...)\n",
    "rho = 1 \n",
    "polygon([0,0,0],6,0.5)\n",
    "for j in range(6):\n",
    "    x = rho*cos(2*pi/6*j)\n",
    "    y = rho*sin(2*pi/6*j) \n",
    "    polygon([x,y,0],6,0.5)\n",
    "app = vv.use()\n",
    "app.Run()"
   ]
  },
  {
   "cell_type": "code",
   "execution_count": null,
   "metadata": {},
   "outputs": [],
   "source": []
  }
 ],
 "metadata": {
  "kernelspec": {
   "display_name": "Python 3",
   "language": "python",
   "name": "python3"
  },
  "language_info": {
   "codemirror_mode": {
    "name": "ipython",
    "version": 3
   },
   "file_extension": ".py",
   "mimetype": "text/x-python",
   "name": "python",
   "nbconvert_exporter": "python",
   "pygments_lexer": "ipython3",
   "version": "3.8.5"
  }
 },
 "nbformat": 4,
 "nbformat_minor": 4
}
