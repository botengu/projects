{
 "cells": [
  {
   "cell_type": "code",
   "execution_count": 1,
   "metadata": {},
   "outputs": [],
   "source": [
    "import numpy as np\n",
    "import visvis as vv\n",
    "import math   \n",
    "import skimage\n",
    "import os\n",
    "import random\n",
    "import scipy\n",
    "import skimage\n",
    "\n",
    "from math import factorial as fac\n",
    "from skimage import measure\n",
    "from numpy import sin, cos, sinh, cosh,arcsin,arccos, pi, exp,abs, min, max \n",
    "from visvis import Point, Pointset\n",
    "from scipy.spatial import Voronoi, voronoi_plot_2d, distance\n",
    "from numpy import inf"
   ]
  },
  {
   "cell_type": "code",
   "execution_count": 2,
   "metadata": {},
   "outputs": [
    {
     "data": {
      "text/plain": [
       "'\\n'"
      ]
     },
     "execution_count": 2,
     "metadata": {},
     "output_type": "execute_result"
    }
   ],
   "source": [
    "axes = vv.gca()\n",
    "\n",
    "def Choose(n,k): \n",
    "    return  fac(n)/ fac(k) / fac( n - k )\n",
    "\n",
    "class nBezier(object):\n",
    "    def __init__(self, points):\n",
    "        self.points = np.array(points).astype(np.float32)\n",
    "\n",
    "    def at(self, t):\n",
    "        pt = 0 \n",
    "        n= len(self.points)\n",
    "        for k in range(n): \n",
    "            pt +=  Choose(n-1,k) * (1-t)**(n-1-k) * t**k * self.points[k]\n",
    "        return pt\n",
    "  \n",
    "def create_line(pt1,pt2): \n",
    "    l = Pointset(3)\n",
    "    l.append(pt1);l.append(pt2); \n",
    "    vv.Line(axes,l)\n",
    "\n",
    "def Meta(x,y,z,cen):\n",
    "    func = 0 \n",
    "    for i in range(len(cen)): \n",
    "        func += cen[i,3]**2/((x-cen[i,0])**2 +(y-cen[i,1])**2 +(z-cen[i,2])**2)\n",
    "    \n",
    "    return func\n",
    "\n",
    "array = np.array([[0,0,0],[0,1,1],[1,1,1], [1,0,1]])\n",
    "\n",
    "pp = Pointset(array)\n",
    "#l = vv.plot(pp, ms='.', mc='r', mw='9', ls='', mew=0 )\n",
    "Curve  = nBezier(array)\n",
    "tspa = 20 \n",
    "t = np.linspace(0,1,tspa) \n",
    "r = np.linspace(0.1,0.1, tspa)\n",
    "list_of_pts = Pointset(3)\n",
    "line_pts = [] \n",
    "\n",
    "def Meta2(x,y,z):\n",
    "    cen = np.array([[0,0,0,1],[1,2,2,2]])\n",
    "    func = 0 \n",
    "    for i in range(len(cen)): \n",
    "        #cen[i,3]**2\n",
    "        func += cen[i,3]**2/((x-cen[i,0])**2 +(y-cen[i,1])**2 +(z-cen[i,2])**2)\n",
    "    \n",
    "    return func\n",
    "\n",
    "for  item in t:\n",
    "    list_of_pts.append(Curve.at(item))\n",
    "    line_pts.append(Curve.at(item))\n",
    "#vv.Line(axes,list_of_pts)\n",
    "\n",
    "final_tab = np.hstack((np.array(line_pts),np.array(r[:, None]))) \n",
    "\n",
    "\n",
    "fac = 10  # Should be odd number\n",
    "\n",
    "bot_x = -fac\n",
    "top_x = fac\n",
    "\n",
    "bot_y = -fac\n",
    "top_y = fac\n",
    "\n",
    "bot_z = -fac\n",
    "top_z = fac\n",
    "\n",
    "n = 20*fac # More of a scale then a resolution  \n",
    "\n",
    "x = np.linspace(bot_x,top_x,n)\n",
    "y = np.linspace(bot_y,top_y,n)\n",
    "z = np.linspace(bot_z,top_z,n)\n",
    "X, Y, Z =  np.meshgrid(x, y, z)\n",
    "\n",
    "vol = Meta(X,Y,Z,final_tab) \n",
    "\n",
    "# Extract a 2D surface mesh from a 3D volume (F=0)\n",
    "mesh = vv.isosurface(vol,1)\n",
    "m = vv.mesh(mesh)\n",
    "#vv.meshWrite(os.path.expanduser('~/Desktop/CAGD/stlFiles/Bezier.stl'), m)\n",
    "app = vv.use()\n",
    "app.Run()\n",
    "'''\n",
    "'''"
   ]
  },
  {
   "cell_type": "code",
   "execution_count": null,
   "metadata": {},
   "outputs": [],
   "source": []
  }
 ],
 "metadata": {
  "kernelspec": {
   "display_name": "Python 3",
   "language": "python",
   "name": "python3"
  },
  "language_info": {
   "codemirror_mode": {
    "name": "ipython",
    "version": 3
   },
   "file_extension": ".py",
   "mimetype": "text/x-python",
   "name": "python",
   "nbconvert_exporter": "python",
   "pygments_lexer": "ipython3",
   "version": "3.8.5"
  }
 },
 "nbformat": 4,
 "nbformat_minor": 4
}
