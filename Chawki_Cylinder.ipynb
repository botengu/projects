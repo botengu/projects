{
 "cells": [
  {
   "cell_type": "code",
   "execution_count": 2,
   "metadata": {},
   "outputs": [
    {
     "name": "stdout",
     "output_type": "stream",
     "text": [
      "6.0\n"
     ]
    },
    {
     "data": {
      "text/plain": [
       "'\\n'"
      ]
     },
     "execution_count": 2,
     "metadata": {},
     "output_type": "execute_result"
    }
   ],
   "source": [
    "import numpy as np\n",
    "import visvis as vv\n",
    "import math   \n",
    "import skimage\n",
    "import os\n",
    "from numpy import sin, cos, sinh, cosh, pi, exp, sqrt, min, max \n",
    "from skimage import measure\n",
    "from visvis import Point, Pointset\n",
    "from numpy import inf\n",
    "\n",
    "\n",
    "def Meta2(x,y,z):\n",
    "    # Create small lattice structure to see if it works\n",
    "    N = 8\n",
    "    h = 10\n",
    "    b = 2 \n",
    "    r = 1 \n",
    "\n",
    "    thetas = np.arange(0,2*pi,2*pi/N)\n",
    "    heights = np.linspace(b,h-b,N)\n",
    "\n",
    "    arr_cos,Zs = np.array(np.meshgrid(r*cos(thetas),heights)) \n",
    "    arr_sin,Zs = np.array(np.meshgrid(r*sin(thetas),heights)) \n",
    "\n",
    "    coords = np.stack((arr_cos, arr_sin,Zs))\n",
    "\n",
    "    a,b,c = coords.shape \n",
    "    coords = np.reshape(coords.T,(b*c,a))\n",
    "    r = 0.008 \n",
    "    func = 0 \n",
    "    for i in range(len(coords)): \n",
    "        func += r/((x-coords[i,0])**2 +(y-coords[i,1])**2 +(z-coords[i,2])**2)**2\n",
    "    \n",
    "    return func\n",
    "\n",
    "\n",
    "def cylinder(X,Y,Z): \n",
    "    \n",
    "    func = 0  \n",
    "    edges =np.array([[0,0,-1],[0,0,5]]) \n",
    "\n",
    "    for i in range(len(edges)): \n",
    "        if(i%2==0):\n",
    "            p1 = edges[i,:]\n",
    "            p2 = edges[i+1,:]\n",
    "            vec = p2 - p1\n",
    "            a,b,c = vec\n",
    "            xx, yy,zz = p1+vec \n",
    "            coeff = np.linalg.norm(p2-p1)\n",
    "            R =0.9\n",
    "            R *=coeff\n",
    "            print(coeff)\n",
    "            cyl = R**2/((a*(Y-yy)-b*(X-xx))**2+(c*(X-xx)-a*(Z-zz))**2+(b*(Z-zz)-c*(Y-yy))**2)\n",
    "            sph = coeff**2/((X-xx)**2 + (Y-yy)**2 + (Z-zz)**2)\n",
    "            func += np.multiply(removeinf(cyl), heavi(sph,2))\n",
    "\n",
    "    return func \n",
    "\n",
    "def heavi(arr, thres):\n",
    "    arr[arr < thres] = 0\n",
    "    arr[arr > thres] = 1\n",
    "    return arr\n",
    "\n",
    "def removeinf(arr):\n",
    "    arr[arr == inf] = 4\n",
    "    return arr\n",
    "\n",
    "fac = 10  # Should be odd number\n",
    "\n",
    "bot_x = -fac\n",
    "top_x = fac\n",
    "\n",
    "bot_y = -fac\n",
    "top_y = fac\n",
    "\n",
    "bot_z = -fac\n",
    "top_z = fac\n",
    "\n",
    "n = 17*fac # More of a scale then a resolution  \n",
    "\n",
    "x = np.linspace(bot_x,top_x,n)\n",
    "y = np.linspace(bot_y,top_y,n)\n",
    "z = np.linspace(bot_z,top_z,n)\n",
    "X, Y, Z =  np.meshgrid(x, y, z)\n",
    "\n",
    "vol = cylinder(X,Y,Z) + Meta2(X,Y,Z)\n",
    "\n",
    " \n",
    "axes = vv.gca()\n",
    "# Extract a 2D surface mesh from a 3D volume (F=0)\n",
    "mesh = vv.isosurface(vol,1)\n",
    "m = vv.mesh(mesh)\n",
    "vv.meshWrite(os.path.expanduser('~/Desktop/CAGD/CADfiles/Chawkicylinders2.stl'), m)\n",
    "app = vv.use()\n",
    "app.Run()\n",
    "'''\n",
    "'''"
   ]
  },
  {
   "cell_type": "code",
   "execution_count": null,
   "metadata": {},
   "outputs": [],
   "source": []
  }
 ],
 "metadata": {
  "kernelspec": {
   "display_name": "Python 3",
   "language": "python",
   "name": "python3"
  },
  "language_info": {
   "codemirror_mode": {
    "name": "ipython",
    "version": 3
   },
   "file_extension": ".py",
   "mimetype": "text/x-python",
   "name": "python",
   "nbconvert_exporter": "python",
   "pygments_lexer": "ipython3",
   "version": "3.8.5"
  }
 },
 "nbformat": 4,
 "nbformat_minor": 4
}
