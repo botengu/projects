{
 "cells": [
  {
   "cell_type": "code",
   "execution_count": 14,
   "metadata": {},
   "outputs": [
    {
     "name": "stdout",
     "output_type": "stream",
     "text": [
      "Using matplotlib backend: Qt5Agg\n"
     ]
    },
    {
     "name": "stderr",
     "output_type": "stream",
     "text": [
      "<ipython-input-14-aa05f83a7778>:44: RuntimeWarning: divide by zero encountered in true_divide\n",
      "  func += (r)**2/((X3-i)**2+(Y3-j)**2)\n"
     ]
    }
   ],
   "source": [
    "import numpy as np\n",
    "import matplotlib.pyplot as plt\n",
    "from matplotlib.animation import FuncAnimation\n",
    "from numpy import sin, cos, sinh, cosh,arcsin,arccos, pi, exp,abs, sqrt\n",
    "from math import factorial as fac\n",
    "\n",
    "#plt.style.use('ggplot')\n",
    "%matplotlib\n",
    "fig, ax = plt.subplots(figsize=(5, 5))\n",
    "ax.set(xlim=(0, 12), ylim=(0, 12))\n",
    "\n",
    "\n",
    "x = np.linspace(0, 15, 100)\n",
    "y = np.linspace(0, 15, 100)\n",
    "X3, Y3= np.meshgrid(x, y)\n",
    "\n",
    "def dist(a,b):\n",
    "    return sqrt((b[0]-a[0])**2+(b[1]-a[1])**2)\n",
    "\n",
    "def Choose(n,k): \n",
    "    return  fac(n)/ fac(k) / fac( n - k )\n",
    "\n",
    "class nBezier(object):\n",
    "    def __init__(self, points):\n",
    "        self.points = np.array(points).astype(np.float32)\n",
    "\n",
    "    def at(self, t):\n",
    "        pt = 0 \n",
    "        n= len(self.points)\n",
    "        for k in range(n): \n",
    "            pt +=  Choose(n-1,k) * (1-t)**(n-1-k) * t**k * self.points[k]\n",
    "        return pt\n",
    "\n",
    "\n",
    "def circles(X3,Y3): \n",
    "    # Direction \n",
    "    func = 0 \n",
    "    r = 0.18\n",
    "    # Greater array\n",
    "    total = [] \n",
    "    \n",
    "    for i in range(1,12):\n",
    "        for j in range(1,12):\n",
    "            func += (r)**2/((X3-i)**2+(Y3-j)**2)\n",
    "    # Do a copy \n",
    "    total.append(func.copy())\n",
    "    \n",
    "    array = np.array([[1,1],[10,1],[10,10], [1,10]])\n",
    "    Curve  = nBezier(array)\n",
    "    t = np.linspace(0,1,25) \n",
    "    for  item in t:\n",
    "        arr = Curve.at(item)\n",
    "        func+= (2.5*r/2)**2/((X3-arr[0])**2+(Y3-arr[1])**2)\n",
    "        total.append(func.copy())\n",
    "    '''\n",
    "    '''\n",
    "    return np.array(total) \n",
    "\n",
    "\n",
    "G1 = circles(X3,Y3).T\n",
    "\n",
    "\n",
    "\n",
    "\n",
    "cax = ax.pcolormesh(x, y, G1[:-1, :-1, 0],\n",
    "                    vmin=0, vmax=1, cmap='gray')\n",
    "fig.colorbar(cax)\n",
    " \n",
    "def animate(i):\n",
    "     cax.set_array(G1[:-1, :-1, i].flatten())\n",
    "    \n",
    "anim = FuncAnimation(\n",
    "    fig, animate, interval=100)\n",
    "\n",
    "plt.draw()\n",
    "plt.show()\n",
    " "
   ]
  },
  {
   "cell_type": "code",
   "execution_count": null,
   "metadata": {},
   "outputs": [],
   "source": []
  }
 ],
 "metadata": {
  "kernelspec": {
   "display_name": "Python 3",
   "language": "python",
   "name": "python3"
  },
  "language_info": {
   "codemirror_mode": {
    "name": "ipython",
    "version": 3
   },
   "file_extension": ".py",
   "mimetype": "text/x-python",
   "name": "python",
   "nbconvert_exporter": "python",
   "pygments_lexer": "ipython3",
   "version": "3.8.5"
  }
 },
 "nbformat": 4,
 "nbformat_minor": 4
}
