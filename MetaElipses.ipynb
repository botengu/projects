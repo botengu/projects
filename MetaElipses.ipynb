{
 "cells": [
  {
   "cell_type": "code",
   "execution_count": 3,
   "metadata": {},
   "outputs": [],
   "source": [
    "import numpy as np\n",
    "import visvis as vv\n",
    "import math   \n",
    "import os \n",
    "import skimage\n",
    "\n",
    "from visvis import Point, Pointset\n",
    "from numpy import sin, cos, sinh, cosh, pi, exp, sqrt, min, max"
   ]
  },
  {
   "cell_type": "code",
   "execution_count": 9,
   "metadata": {},
   "outputs": [],
   "source": [
    "# Set up mesh\n",
    "# Create TPMS function \n",
    "def Sphere(x,y,z): \n",
    "    cen = np.array([[0,0,0,1],[1,1,1,1]])\n",
    "    i = 0\n",
    "    return 4*(x-cen[i,0])**2 +4*(y-cen[i,1])**2 +(z-cen[i,2])**2 -cen[i,3]**2\n",
    "        \n",
    "    \n",
    "def Meta2(x,y,z):\n",
    "    cen = np.array([[0,0,0,1],[1,1,1,2]])\n",
    "    func = 0 \n",
    "    for i in range(len(cen)): \n",
    "        #cen[i,3]**2\n",
    "        func += cen[i,3]/(4*(x-cen[i,0])**2 +4*(y-cen[i,1])**2 +(z-cen[i,2])**2)\n",
    "    \n",
    "    return func\n",
    "\n",
    "fac = 30  # Should be odd number\n",
    "\n",
    "bot_x = -fac\n",
    "top_x = fac\n",
    "\n",
    "bot_y = -fac\n",
    "top_y = fac\n",
    "\n",
    "bot_z = -fac\n",
    "top_z = fac\n",
    "\n",
    "n = 10*fac # More of a scale then a resolution  \n",
    "\n",
    "x = np.linspace(bot_x,top_x,n)\n",
    "y = np.linspace(bot_y,top_y,n)\n",
    "z = np.linspace(bot_z,top_z,n)\n",
    "X, Y, Z =  np.meshgrid(x, y, z)\n",
    "\n",
    "vol = Meta2(X,Y,Z) \n",
    "\n",
    "# Extract a 2D surface mesh from a 3D volume (F=0)\n",
    "mesh = vv.isosurface(vol,1)\n",
    "m = vv.mesh(mesh)\n",
    "\n",
    "#vv.meshWrite(os.path.expanduser('~/Desktop/CAGD/stlFiles/alone-sphere.stl'), m)\n",
    "app = vv.use()\n",
    "app.Run()\n"
   ]
  },
  {
   "cell_type": "code",
   "execution_count": null,
   "metadata": {},
   "outputs": [],
   "source": [
    "\n"
   ]
  }
 ],
 "metadata": {
  "kernelspec": {
   "display_name": "Python 3",
   "language": "python",
   "name": "python3"
  },
  "language_info": {
   "codemirror_mode": {
    "name": "ipython",
    "version": 3
   },
   "file_extension": ".py",
   "mimetype": "text/x-python",
   "name": "python",
   "nbconvert_exporter": "python",
   "pygments_lexer": "ipython3",
   "version": "3.8.2"
  }
 },
 "nbformat": 4,
 "nbformat_minor": 4
}
