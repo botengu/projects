{
 "cells": [
  {
   "cell_type": "markdown",
   "metadata": {},
   "source": [
    "### Topics"
   ]
  },
  {
   "cell_type": "markdown",
   "metadata": {},
   "source": [
    "- Requests and getting webpages\n",
    "- Tidying HTML\n",
    "- Web Scraping with BS\n",
    "    - Traversal\n",
    "- simple parallelization\n",
    "- Storing Snapshots by using python dill\n",
    "- Exploration\n",
    "- Stock selection using simple filters"
   ]
  },
  {
   "cell_type": "markdown",
   "metadata": {},
   "source": [
    "### Imports"
   ]
  },
  {
   "cell_type": "code",
   "execution_count": 1,
   "metadata": {
    "ExecuteTime": {
     "end_time": "2018-08-12T06:43:26.645634Z",
     "start_time": "2018-08-12T06:43:26.170422Z"
    }
   },
   "outputs": [],
   "source": [
    "import numpy as np # linear algebra\n",
    "import pandas as pd # pandas for dataframe based data processing and CSV file I/O"
   ]
  },
  {
   "cell_type": "code",
   "execution_count": 2,
   "metadata": {
    "ExecuteTime": {
     "end_time": "2018-08-12T06:44:10.456962Z",
     "start_time": "2018-08-12T06:44:10.440417Z"
    }
   },
   "outputs": [],
   "source": [
    "import requests # for http requests\n",
    "from bs4 import BeautifulSoup # for html parsing and scraping\n",
    "from fastnumbers import isfloat \n",
    "from fastnumbers import fast_float\n",
    "from multiprocessing.dummy import Pool as ThreadPool \n",
    "import bs4\n",
    "\n",
    "import matplotlib.pyplot as plt\n",
    "import seaborn as sns\n",
    "import json\n",
    "#from tidylib import tidy_document # for tidying incorrect html\n",
    "\n",
    "sns.set_style('whitegrid')\n",
    "%matplotlib inline\n",
    "from IPython.core.interactiveshell import InteractiveShell\n",
    "InteractiveShell.ast_node_interactivity = \"all\"\n",
    "\n"
   ]
  },
  {
   "cell_type": "code",
   "execution_count": 3,
   "metadata": {
    "ExecuteTime": {
     "end_time": "2018-08-12T06:43:29.759057Z",
     "start_time": "2018-08-12T06:43:29.735326Z"
    }
   },
   "outputs": [],
   "source": [
    "def ffloat(string):\n",
    "    if string is None:\n",
    "        return np.nan\n",
    "    if type(string)==float or type(string)==np.float64:\n",
    "        return string\n",
    "    if type(string)==int or type(string)==np.int64:\n",
    "        return string\n",
    "    return fast_float(string.split(\" \")[0].replace(',','').replace('%',''),\n",
    "                      default=np.nan)\n",
    "\n",
    "def ffloat_list(string_list):\n",
    "    return list(map(ffloat,string_list))\n",
    "\n",
    "def remove_multiple_spaces(string):\n",
    "    if type(string)==str:\n",
    "        return ' '.join(string.split())\n",
    "    return string"
   ]
  },
  {
   "cell_type": "markdown",
   "metadata": {},
   "source": [
    "### Requests and Getting Content\n",
    "- Status code\n",
    "- Getting Text Content\n",
    "- Getting JSON Content\n",
    "- Error Handling"
   ]
  },
  {
   "cell_type": "markdown",
   "metadata": {},
   "source": [
    "#### Getting a page and its status"
   ]
  },
  {
   "cell_type": "code",
   "execution_count": 4,
   "metadata": {
    "ExecuteTime": {
     "end_time": "2018-08-11T09:42:05.501640Z",
     "start_time": "2018-08-11T09:42:04.071359Z"
    }
   },
   "outputs": [
    {
     "data": {
      "text/plain": [
       "200"
      ]
     },
     "execution_count": 4,
     "metadata": {},
     "output_type": "execute_result"
    },
    {
     "data": {
      "text/plain": [
       "b'<!doctype html>\\n<html>\\n<head>\\n    <title>Example Domain</title>\\n\\n    <meta charset=\"utf-8\" />\\n    <meta http-equiv=\"Content-type\" content=\"text/html; charset=utf-8\" />\\n    <meta name=\"viewport\" content=\"width=device-width, initial-scale=1\" />\\n    <style type=\"text/css\">\\n    body {\\n        background-color: #f0f0f2;\\n        margin: 0;\\n        padding: 0;\\n        font-family: -apple-system, system-ui, BlinkMacSystemFont, \"Segoe UI\", \"Open Sans\", \"Helvetica Neue\", Helvetica, Arial, sans-serif;\\n        \\n    }\\n    div {\\n        width: 600px;\\n        margin: 5em auto;\\n        padding: 2em;\\n        background-color: #fdfdff;\\n        border-radius: 0.5em;\\n        box-shadow: 2px 3px 7px 2px rgba(0,0,0,0.02);\\n    }\\n    a:link, a:visited {\\n        color: #38488f;\\n        text-decoration: none;\\n    }\\n    @media (max-width: 700px) {\\n        div {\\n            margin: 0 auto;\\n            width: auto;\\n        }\\n    }\\n    </style>    \\n</head>\\n\\n<body>\\n<div>\\n    <h1>Example Domain</h1>\\n    <p>This domain is for use in illustrative examples in documents. You may use this\\n    domain in literature without prior coordination or asking for permission.</p>\\n    <p><a href=\"https://www.iana.org/domains/example\">More information...</a></p>\\n</div>\\n</body>\\n</html>\\n'"
      ]
     },
     "execution_count": 4,
     "metadata": {},
     "output_type": "execute_result"
    }
   ],
   "source": [
    "response = requests.get(\"http://www.example.com/\", timeout=240)\n",
    "response.status_code\n",
    "response.content"
   ]
  },
  {
   "cell_type": "markdown",
   "metadata": {},
   "source": [
    "#### Getting Json and parsing it"
   ]
  },
  {
   "cell_type": "code",
   "execution_count": 5,
   "metadata": {
    "ExecuteTime": {
     "end_time": "2018-08-11T09:42:47.729322Z",
     "start_time": "2018-08-11T09:42:46.667213Z"
    }
   },
   "outputs": [
    {
     "data": {
      "text/plain": [
       "200"
      ]
     },
     "execution_count": 5,
     "metadata": {},
     "output_type": "execute_result"
    },
    {
     "data": {
      "text/plain": [
       "{'userId': 1,\n",
       " 'id': 1,\n",
       " 'title': 'sunt aut facere repellat provident occaecati excepturi optio reprehenderit',\n",
       " 'body': 'quia et suscipit\\nsuscipit recusandae consequuntur expedita et cum\\nreprehenderit molestiae ut ut quas totam\\nnostrum rerum est autem sunt rem eveniet architecto'}"
      ]
     },
     "execution_count": 5,
     "metadata": {},
     "output_type": "execute_result"
    },
    {
     "data": {
      "text/plain": [
       "dict_keys(['userId', 'id', 'title', 'body'])"
      ]
     },
     "execution_count": 5,
     "metadata": {},
     "output_type": "execute_result"
    }
   ],
   "source": [
    "url = \"https://jsonplaceholder.typicode.com/posts/1\"\n",
    "response = requests.get(url, timeout=240)\n",
    "response.status_code\n",
    "response.json()\n",
    "\n",
    "content = response.json()\n",
    "content.keys()"
   ]
  },
  {
   "cell_type": "markdown",
   "metadata": {},
   "source": [
    "#### Checking Status Codes for errors"
   ]
  },
  {
   "cell_type": "code",
   "execution_count": 6,
   "metadata": {
    "ExecuteTime": {
     "end_time": "2018-08-10T09:28:59.494943Z",
     "start_time": "2018-08-10T09:28:59.489840Z"
    }
   },
   "outputs": [],
   "source": [
    "def request_with_check(url):\n",
    "    page_response = requests.get(url, timeout=240)\n",
    "    status = page_response.status_code\n",
    "    if status>299:\n",
    "        raise AssertionError(\"page content not found, status: %s\"%status)\n",
    "    return page_response"
   ]
  },
  {
   "cell_type": "code",
   "execution_count": 7,
   "metadata": {
    "ExecuteTime": {
     "end_time": "2018-07-28T15:22:29.035356Z",
     "start_time": "2018-07-28T15:22:28.737273Z"
    }
   },
   "outputs": [
    {
     "ename": "AssertionError",
     "evalue": "page content not found, status: 404",
     "output_type": "error",
     "traceback": [
      "\u001b[1;31m---------------------------------------------------------------------------\u001b[0m",
      "\u001b[1;31mAssertionError\u001b[0m                            Traceback (most recent call last)",
      "\u001b[1;32m<ipython-input-7-ddbcc6b61f74>\u001b[0m in \u001b[0;36m<module>\u001b[1;34m\u001b[0m\n\u001b[1;32m----> 1\u001b[1;33m \u001b[0mrequest_with_check\u001b[0m\u001b[1;33m(\u001b[0m\u001b[1;34m\"https://www.google.co.in/mycustom404page\"\u001b[0m\u001b[1;33m)\u001b[0m\u001b[1;33m\u001b[0m\u001b[1;33m\u001b[0m\u001b[0m\n\u001b[0m",
      "\u001b[1;32m<ipython-input-6-00aceb51cc5b>\u001b[0m in \u001b[0;36mrequest_with_check\u001b[1;34m(url)\u001b[0m\n\u001b[0;32m      3\u001b[0m     \u001b[0mstatus\u001b[0m \u001b[1;33m=\u001b[0m \u001b[0mpage_response\u001b[0m\u001b[1;33m.\u001b[0m\u001b[0mstatus_code\u001b[0m\u001b[1;33m\u001b[0m\u001b[1;33m\u001b[0m\u001b[0m\n\u001b[0;32m      4\u001b[0m     \u001b[1;32mif\u001b[0m \u001b[0mstatus\u001b[0m\u001b[1;33m>\u001b[0m\u001b[1;36m299\u001b[0m\u001b[1;33m:\u001b[0m\u001b[1;33m\u001b[0m\u001b[1;33m\u001b[0m\u001b[0m\n\u001b[1;32m----> 5\u001b[1;33m         \u001b[1;32mraise\u001b[0m \u001b[0mAssertionError\u001b[0m\u001b[1;33m(\u001b[0m\u001b[1;34m\"page content not found, status: %s\"\u001b[0m\u001b[1;33m%\u001b[0m\u001b[0mstatus\u001b[0m\u001b[1;33m)\u001b[0m\u001b[1;33m\u001b[0m\u001b[1;33m\u001b[0m\u001b[0m\n\u001b[0m\u001b[0;32m      6\u001b[0m     \u001b[1;32mreturn\u001b[0m \u001b[0mpage_response\u001b[0m\u001b[1;33m\u001b[0m\u001b[1;33m\u001b[0m\u001b[0m\n",
      "\u001b[1;31mAssertionError\u001b[0m: page content not found, status: 404"
     ]
    }
   ],
   "source": [
    "request_with_check(\"https://www.google.co.in/mycustom404page\")"
   ]
  },
  {
   "cell_type": "code",
   "execution_count": 8,
   "metadata": {
    "ExecuteTime": {
     "end_time": "2018-07-28T15:22:48.062201Z",
     "start_time": "2018-07-28T15:22:47.738136Z"
    }
   },
   "outputs": [
    {
     "data": {
      "text/plain": [
       "<Response [200]>"
      ]
     },
     "execution_count": 8,
     "metadata": {},
     "output_type": "execute_result"
    }
   ],
   "source": [
    "request_with_check(\"https://www.google.co.in/\")"
   ]
  },
  {
   "cell_type": "markdown",
   "metadata": {},
   "source": [
    "### Parsing and Traversal"
   ]
  },
  {
   "cell_type": "markdown",
   "metadata": {},
   "source": [
    "- Getting body of a page and rendering it\n",
    "- Inspecting Elements in Chrome\n",
    "- Ways of getting element contents\n",
    "- Traversals of childrens\n",
    "- Getting Text and numbers\n",
    "- Tables"
   ]
  },
  {
   "cell_type": "markdown",
   "metadata": {},
   "source": [
    "#### Rendering HTML in Jupyter notebook"
   ]
  },
  {
   "cell_type": "code",
   "execution_count": 9,
   "metadata": {
    "ExecuteTime": {
     "end_time": "2018-08-12T06:43:37.444652Z",
     "start_time": "2018-08-12T06:43:37.430048Z"
    }
   },
   "outputs": [
    {
     "data": {
      "text/html": [
       "<b>Rendered HTML</b>"
      ],
      "text/plain": [
       "<IPython.core.display.HTML object>"
      ]
     },
     "execution_count": 9,
     "metadata": {},
     "output_type": "execute_result"
    }
   ],
   "source": [
    "from IPython.core.display import HTML\n",
    "HTML(\"<b>Rendered HTML</b>\")\n"
   ]
  },
  {
   "cell_type": "markdown",
   "metadata": {},
   "source": [
    "Here We download the page, parse using BeautifulSoup and then find the body tag content. Next we render the body tag."
   ]
  },
  {
   "cell_type": "code",
   "execution_count": 10,
   "metadata": {
    "ExecuteTime": {
     "end_time": "2018-08-11T13:53:20.724966Z",
     "start_time": "2018-08-11T13:53:20.330754Z"
    }
   },
   "outputs": [
    {
     "data": {
      "text/html": [
       "<h1 class=\"pcstname\">Hero Motocorp Ltd.</h1>"
      ],
      "text/plain": [
       "<IPython.core.display.HTML object>"
      ]
     },
     "execution_count": 10,
     "metadata": {},
     "output_type": "execute_result"
    },
    {
     "data": {
      "text/html": [
       "None"
      ],
      "text/plain": [
       "<IPython.core.display.HTML object>"
      ]
     },
     "execution_count": 10,
     "metadata": {},
     "output_type": "execute_result"
    }
   ],
   "source": [
    "page_response = requests.get(\"https://www.moneycontrol.com/india/stockpricequote/auto-2-3-wheelers/heromotocorp/HHM\", timeout=240)\n",
    "page_content = BeautifulSoup(page_response.content, \"html.parser\")\n",
    "HTML(str(page_content.find(\"h1\")))\n",
    "\n",
    "HTML(str(page_content.find(\"div\",attrs={'id':\"content_full\"})))"
   ]
  },
  {
   "cell_type": "markdown",
   "metadata": {},
   "source": [
    "#### Finding elements by attributes"
   ]
  },
  {
   "cell_type": "code",
   "execution_count": 11,
   "metadata": {
    "ExecuteTime": {
     "end_time": "2018-08-12T06:43:45.272056Z",
     "start_time": "2018-08-12T06:43:44.854286Z"
    }
   },
   "outputs": [
    {
     "data": {
      "text/html": [
       "None"
      ],
      "text/plain": [
       "<IPython.core.display.HTML object>"
      ]
     },
     "execution_count": 11,
     "metadata": {},
     "output_type": "execute_result"
    }
   ],
   "source": [
    "page_response = requests.get(\"https://www.moneycontrol.com/india/stockpricequote/auto-2-3-wheelers/heromotocorp/HHM\", timeout=240)\n",
    "page_content = BeautifulSoup(page_response.content, \"html.parser\")\n",
    "price_div = page_content.find(\"div\",attrs={\"id\":'b_changetext'})\n",
    "HTML(str(price_div))"
   ]
  },
  {
   "cell_type": "markdown",
   "metadata": {
    "ExecuteTime": {
     "end_time": "2018-07-28T13:57:16.285488Z",
     "start_time": "2018-07-28T13:57:16.278031Z"
    }
   },
   "source": [
    "```python\n",
    "page_content.find_all(\"p\")\n",
    "page_content.find(\"p\",attrs={\"class\":\"my-id\"})\n",
    "page_content.find_all(\"p\",attrs={\"id\":\"my-id\"})\n",
    "page_content.find_all(\"p\",attrs={\"id\":\"my-id\"})\n",
    "```\n",
    "\n",
    "`.find` finds the first occurence.\n",
    "You can check other find_* (find_next,find_previous etc)\n",
    "\n",
    "Once you have the element you can do `.text` to get its textual content.\n",
    "\n",
    "Like\n",
    "\n",
    "```python\n",
    "elem = page_content.find(\"p\",attrs={\"class\":\"my-id\"})\n",
    "text = elem.text\n",
    "```"
   ]
  },
  {
   "cell_type": "markdown",
   "metadata": {},
   "source": [
    "#### Getting Children of an element in Array"
   ]
  },
  {
   "cell_type": "code",
   "execution_count": 7,
   "metadata": {
    "ExecuteTime": {
     "end_time": "2018-08-12T06:43:49.351548Z",
     "start_time": "2018-08-12T06:43:49.345416Z"
    }
   },
   "outputs": [
    {
     "data": {
      "text/plain": [
       "[' ', <span class=\"gr_15 uparw_pc\"><strong>46.25</strong></span>, ' (+1.41%)']"
      ]
     },
     "execution_count": 7,
     "metadata": {},
     "output_type": "execute_result"
    }
   ],
   "source": [
    "list(price_div.children)"
   ]
  },
  {
   "cell_type": "markdown",
   "metadata": {},
   "source": [
    "As you see the first and last element is \"\\n\" and not actual HTML elements so we will filter them. The next function does that."
   ]
  },
  {
   "cell_type": "code",
   "execution_count": 37,
   "metadata": {
    "ExecuteTime": {
     "end_time": "2018-08-12T10:51:19.905698Z",
     "start_time": "2018-08-12T10:51:19.896500Z"
    },
    "collapsed": true
   },
   "outputs": [],
   "source": [
    "\n",
    "def get_children(html_content):\n",
    "    children = list()\n",
    "    for item in html_content.children:\n",
    "        if type(item)==bs4.element.Comment:\n",
    "            continue\n",
    "        if type(item)==bs4.element.Tag or len(str(item).replace(\"\\n\",\"\").strip())>0:\n",
    "            children.append(item)\n",
    "        \n",
    "    return children\n",
    "\n"
   ]
  },
  {
   "cell_type": "code",
   "execution_count": 38,
   "metadata": {
    "ExecuteTime": {
     "end_time": "2018-08-12T10:51:21.478297Z",
     "start_time": "2018-08-12T10:51:21.470934Z"
    }
   },
   "outputs": [
    {
     "data": {
      "text/plain": [
       "[<span class=\"gr_15 uparw_pc\"><strong>46.25</strong></span>, ' (+1.41%)']"
      ]
     },
     "execution_count": 38,
     "metadata": {},
     "output_type": "execute_result"
    }
   ],
   "source": [
    "get_children(price_div)"
   ]
  },
  {
   "cell_type": "markdown",
   "metadata": {},
   "source": [
    "#### Parsing HTML tables and table like structures"
   ]
  },
  {
   "cell_type": "code",
   "execution_count": 39,
   "metadata": {
    "ExecuteTime": {
     "end_time": "2018-08-12T10:51:32.034825Z",
     "start_time": "2018-08-12T10:51:32.027483Z"
    }
   },
   "outputs": [
    {
     "data": {
      "text/html": [
       "\n",
       "<table>\n",
       "    <tr>\n",
       "        <td>Month</td>\n",
       "        <td>Price</td>\n",
       "    </tr>\n",
       "    <tr>\n",
       "        <td>July</td>\n",
       "        <td>2</td>\n",
       "    </tr>\n",
       "    <tr>\n",
       "        <td>August</td>\n",
       "        <td>4</td>\n",
       "    </tr>\n",
       "    <tr>\n",
       "        <td>September</td>\n",
       "        <td>3</td>\n",
       "    </tr>\n",
       "    <tr>\n",
       "        <td>October</td>\n",
       "        <td>2</td>\n",
       "    </tr>\n",
       "</table>\n",
       "\n"
      ],
      "text/plain": [
       "<IPython.core.display.HTML object>"
      ]
     },
     "execution_count": 39,
     "metadata": {},
     "output_type": "execute_result"
    }
   ],
   "source": [
    "html = '''\n",
    "<table>\n",
    "    <tr>\n",
    "        <td>Month</td>\n",
    "        <td>Price</td>\n",
    "    </tr>\n",
    "    <tr>\n",
    "        <td>July</td>\n",
    "        <td>2</td>\n",
    "    </tr>\n",
    "    <tr>\n",
    "        <td>August</td>\n",
    "        <td>4</td>\n",
    "    </tr>\n",
    "    <tr>\n",
    "        <td>September</td>\n",
    "        <td>3</td>\n",
    "    </tr>\n",
    "    <tr>\n",
    "        <td>October</td>\n",
    "        <td>2</td>\n",
    "    </tr>\n",
    "</table>\n",
    "\n",
    "'''\n",
    "\n",
    "HTML(html)"
   ]
  },
  {
   "cell_type": "code",
   "execution_count": 40,
   "metadata": {
    "ExecuteTime": {
     "end_time": "2018-08-12T10:51:32.917304Z",
     "start_time": "2018-08-12T10:51:32.811972Z"
    },
    "collapsed": true
   },
   "outputs": [],
   "source": [
    "\n",
    "\n",
    "\n",
    "\n",
    "def get_table_simple(table,is_table_tag=True):\n",
    "    elems = table.find_all('tr') if is_table_tag else get_children(table)\n",
    "    table_data = list()\n",
    "    for row in elems:\n",
    "        \n",
    "        row_data = list()\n",
    "        row_elems = get_children(row)\n",
    "        for elem in row_elems:\n",
    "            text = elem.text.strip().replace(\"\\n\",\"\")\n",
    "            text = remove_multiple_spaces(text)\n",
    "            if len(text)==0:\n",
    "                continue\n",
    "            row_data.append(text)\n",
    "        table_data.append(row_data)\n",
    "    return table_data\n",
    "\n",
    "\n",
    "        "
   ]
  },
  {
   "cell_type": "code",
   "execution_count": 41,
   "metadata": {
    "ExecuteTime": {
     "end_time": "2018-08-12T10:51:34.304326Z",
     "start_time": "2018-08-12T10:51:34.295358Z"
    }
   },
   "outputs": [
    {
     "data": {
      "text/plain": [
       "[['Month', 'Price'],\n",
       " ['July', '2'],\n",
       " ['August', '4'],\n",
       " ['September', '3'],\n",
       " ['October', '2']]"
      ]
     },
     "execution_count": 41,
     "metadata": {},
     "output_type": "execute_result"
    }
   ],
   "source": [
    "html = BeautifulSoup(html,\"html.parser\")\n",
    "get_table_simple(html)"
   ]
  },
  {
   "cell_type": "code",
   "execution_count": 42,
   "metadata": {
    "ExecuteTime": {
     "end_time": "2018-08-12T10:51:37.466867Z",
     "start_time": "2018-08-12T10:51:37.456341Z"
    }
   },
   "outputs": [
    {
     "data": {
      "text/html": [
       "\n",
       "<html>\n",
       "<body>\n",
       "<div id=\"table\" class=\"FL\" style=\"width:210px; padding-right:10px\">\n",
       "    <div class=\"PA7 brdb\">\n",
       "        <div class=\"FL gL_10 UC\">MARKET CAP (Rs Cr)</div>\n",
       "        <div class=\"FR gD_12\">63,783.84</div>\n",
       "        <div class=\"CL\"></div>\n",
       "    </div>\n",
       "    <div class=\"PA7 brdb\">\n",
       "        <div class=\"FL gL_10 UC\">P/E</div>\n",
       "        <div class=\"FR gD_12\">17.27</div>\n",
       "        <div class=\"CL\"></div>\n",
       "    </div>\n",
       "    <div class=\"PA7 brdb\">\n",
       "        <div class=\"FL gL_10 UC\">BOOK VALUE (Rs)</div>\n",
       "        <div class=\"FR gD_12\">589.29</div>\n",
       "        <div class=\"CL\"></div>\n",
       "    </div>\n",
       "    <div class=\"PA7 brdb\">\n",
       "        <div class=\"FL gL_10 UC\">DIV (%)</div>\n",
       "        <div class=\"FR gD_12\">4750.00%</div>\n",
       "        <div class=\"CL\"></div>\n",
       "    </div>\n",
       "    <div class=\"PA7 brdb\">\n",
       "        <div class=\"FL gL_10 UC\">Market Lot</div>\n",
       "        <div class=\"FR gD_12\">1</div>\n",
       "        <div class=\"CL\"></div>\n",
       "    </div>\n",
       "    <div class=\"PA7 brdb\">\n",
       "        <div class=\"FL gL_10 UC\">INDUSTRY P/E</div>\n",
       "        <div class=\"FR gD_12\">19.99</div>\n",
       "        <div class=\"CL\"></div>\n",
       "    </div>\n",
       "</div>\n",
       "</body>\n",
       "</html>\n"
      ],
      "text/plain": [
       "<IPython.core.display.HTML object>"
      ]
     },
     "execution_count": 42,
     "metadata": {},
     "output_type": "execute_result"
    }
   ],
   "source": [
    "html = '''\n",
    "<html>\n",
    "<body>\n",
    "<div id=\"table\" class=\"FL\" style=\"width:210px; padding-right:10px\">\n",
    "    <div class=\"PA7 brdb\">\n",
    "        <div class=\"FL gL_10 UC\">MARKET CAP (Rs Cr)</div>\n",
    "        <div class=\"FR gD_12\">63,783.84</div>\n",
    "        <div class=\"CL\"></div>\n",
    "    </div>\n",
    "    <div class=\"PA7 brdb\">\n",
    "        <div class=\"FL gL_10 UC\">P/E</div>\n",
    "        <div class=\"FR gD_12\">17.27</div>\n",
    "        <div class=\"CL\"></div>\n",
    "    </div>\n",
    "    <div class=\"PA7 brdb\">\n",
    "        <div class=\"FL gL_10 UC\">BOOK VALUE (Rs)</div>\n",
    "        <div class=\"FR gD_12\">589.29</div>\n",
    "        <div class=\"CL\"></div>\n",
    "    </div>\n",
    "    <div class=\"PA7 brdb\">\n",
    "        <div class=\"FL gL_10 UC\">DIV (%)</div>\n",
    "        <div class=\"FR gD_12\">4750.00%</div>\n",
    "        <div class=\"CL\"></div>\n",
    "    </div>\n",
    "    <div class=\"PA7 brdb\">\n",
    "        <div class=\"FL gL_10 UC\">Market Lot</div>\n",
    "        <div class=\"FR gD_12\">1</div>\n",
    "        <div class=\"CL\"></div>\n",
    "    </div>\n",
    "    <div class=\"PA7 brdb\">\n",
    "        <div class=\"FL gL_10 UC\">INDUSTRY P/E</div>\n",
    "        <div class=\"FR gD_12\">19.99</div>\n",
    "        <div class=\"CL\"></div>\n",
    "    </div>\n",
    "</div>\n",
    "</body>\n",
    "</html>\n",
    "'''\n",
    "HTML(html)"
   ]
  },
  {
   "cell_type": "code",
   "execution_count": 44,
   "metadata": {
    "ExecuteTime": {
     "end_time": "2018-08-12T10:51:43.906755Z",
     "start_time": "2018-08-12T10:51:43.898077Z"
    }
   },
   "outputs": [
    {
     "data": {
      "text/plain": [
       "[['MARKET CAP (Rs Cr)', '63,783.84'],\n",
       " ['P/E', '17.27'],\n",
       " ['BOOK VALUE (Rs)', '589.29'],\n",
       " ['DIV (%)', '4750.00%'],\n",
       " ['Market Lot', '1'],\n",
       " ['INDUSTRY P/E', '19.99']]"
      ]
     },
     "execution_count": 44,
     "metadata": {},
     "output_type": "execute_result"
    }
   ],
   "source": [
    "content = BeautifulSoup(html,\"html.parser\")\n",
    "get_table_simple(content.find(\"div\",attrs={\"id\":\"table\"}),is_table_tag=False)"
   ]
  },
  {
   "cell_type": "markdown",
   "metadata": {
    "collapsed": true
   },
   "source": [
    "### Lib for fetching details"
   ]
  },
  {
   "cell_type": "code",
   "execution_count": 63,
   "metadata": {
    "ExecuteTime": {
     "end_time": "2018-08-12T11:10:19.972046Z",
     "start_time": "2018-08-12T11:10:19.914179Z"
    },
    "code_folding": [],
    "collapsed": true
   },
   "outputs": [],
   "source": [
    "\n",
    "def get_scrip_info(url):\n",
    "    original_url = url\n",
    "    key_val_pairs = {}\n",
    "    \n",
    "    page_response = requests.get(url, timeout=240)\n",
    "    page_content = BeautifulSoup(page_response.content, \"html.parser\")\n",
    "    price = ffloat(page_content.find('div',attrs={'id':'Nse_Prc_tick_div'}).text)\n",
    "    name = page_content.find('h1',attrs={'class':'company_name'}).text\n",
    "\n",
    "    yearly_high = page_content.find('span',attrs={'id':'n_52high'}).text.strip()\n",
    "    yearly_low = page_content.find('span',attrs={'id':'n_52low'}).text.strip()\n",
    "    html_data_content = page_content.find('div', attrs={'id': 'mktdet_1'})\n",
    "\n",
    "    petable = get_table_simple(get_children(html_data_content)[0],is_table_tag=False)\n",
    "    pbtable = get_table_simple(get_children(html_data_content)[1],is_table_tag=False)\n",
    "    volume = ffloat(page_content.find('span',attrs={'id':'nse_volume'}).text)\n",
    "\n",
    "\n",
    "    data_table = list()\n",
    "    data_table.extend(petable)\n",
    "    data_table.extend(pbtable)\n",
    "\n",
    "    collector = {row[0]:ffloat(row[1]) if len(row)==2 else None for row in data_table}\n",
    "\n",
    "\n",
    "    key_val_pairs[\"pe\"] = collector['P/E']\n",
    "    key_val_pairs[\"book_value\"] = collector['BOOK VALUE (Rs)']\n",
    "    key_val_pairs[\"deliverables\"] = collector['DELIVERABLES (%)']\n",
    "    if 'MARKET CAP (Rs Cr)' in collector:\n",
    "        key_val_pairs[\"market_cap\"] = collector['MARKET CAP (Rs Cr)']\n",
    "    elif '**MARKET CAP (Rs Cr)' in collector:\n",
    "        key_val_pairs[\"market_cap\"] = collector['**MARKET CAP (Rs Cr)']\n",
    "    key_val_pairs[\"pb\"] = collector['PRICE/BOOK']\n",
    "    key_val_pairs['price'] = price\n",
    "    key_val_pairs['volume'] = volume\n",
    "    key_val_pairs[\"yearly_low\"] = ffloat(yearly_low)\n",
    "    key_val_pairs[\"yearly_high\"] = ffloat(yearly_high)\n",
    "    return key_val_pairs\n"
   ]
  },
  {
   "cell_type": "code",
   "execution_count": 64,
   "metadata": {
    "ExecuteTime": {
     "end_time": "2018-08-12T11:10:21.544221Z",
     "start_time": "2018-08-12T11:10:20.553048Z"
    }
   },
   "outputs": [
    {
     "data": {
      "text/plain": [
       "{'book_value': 589.29,\n",
       " 'deliverables': 45.79,\n",
       " 'market_cap': 66332.16,\n",
       " 'pb': 5.64,\n",
       " 'pe': 17.96,\n",
       " 'price': 3319.4,\n",
       " 'volume': 356538.0,\n",
       " 'yearly_high': 4091.95,\n",
       " 'yearly_low': 3033.75}"
      ]
     },
     "execution_count": 64,
     "metadata": {},
     "output_type": "execute_result"
    }
   ],
   "source": [
    "get_scrip_info(\"https://www.moneycontrol.com/india/stockpricequote/auto-2-3-wheelers/heromotocorp/HHM\")"
   ]
  },
  {
   "cell_type": "markdown",
   "metadata": {},
   "source": [
    "### References"
   ]
  },
  {
   "cell_type": "markdown",
   "metadata": {},
   "source": [
    "- https://ntguardian.wordpress.com/2016/09/19/introduction-stock-market-data-python-1/\n",
    "- https://mapattack.wordpress.com/2017/02/14/python-for-stocks-2/\n",
    "\n",
    "more involved articles:\n",
    "\n",
    " - https://ntguardian.wordpress.com/2018/07/17/stock-data-analysis-python-v2/\n",
    " - https://nextjournal.com/hisham/stock-market\n",
    " "
   ]
  },
  {
   "cell_type": "code",
   "execution_count": null,
   "metadata": {
    "collapsed": true
   },
   "outputs": [],
   "source": []
  }
 ],
 "metadata": {
  "kernelspec": {
   "display_name": "Python 3",
   "language": "python",
   "name": "python3"
  },
  "language_info": {
   "codemirror_mode": {
    "name": "ipython",
    "version": 3
   },
   "file_extension": ".py",
   "mimetype": "text/x-python",
   "name": "python",
   "nbconvert_exporter": "python",
   "pygments_lexer": "ipython3",
   "version": "3.8.2"
  },
  "toc": {
   "nav_menu": {},
   "number_sections": true,
   "sideBar": true,
   "skip_h1_title": false,
   "toc_cell": false,
   "toc_position": {},
   "toc_section_display": "block",
   "toc_window_display": false
  }
 },
 "nbformat": 4,
 "nbformat_minor": 2
}
