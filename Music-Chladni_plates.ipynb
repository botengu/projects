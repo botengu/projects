{
 "cells": [
  {
   "cell_type": "code",
   "execution_count": 1,
   "metadata": {},
   "outputs": [
    {
     "name": "stdout",
     "output_type": "stream",
     "text": [
      "Using matplotlib backend: Qt5Agg\n"
     ]
    }
   ],
   "source": [
    "# plot a \n",
    "import numpy as np\n",
    "import matplotlib.pyplot as plt\n",
    "from numpy import linspace, cos, sin, meshgrid\n",
    "from math import pi \n",
    "from matplotlib.animation import FuncAnimation\n",
    "import matplotlib.pyplot as plt\n",
    "%matplotlib\n",
    "\n",
    "num = 70\n",
    "div_num = 50 \n",
    "a = 3; b = 3; \n",
    "C = 1 ; D = 1; \n",
    "\n",
    "xrange = linspace(0, a, num)\n",
    "yrange = linspace(0, b, num)\n",
    "x, y = meshgrid(xrange,yrange)\n",
    "\n",
    "\n",
    "freq  = np.linspace(1,5,div_num)\n",
    "\n",
    "f_evol = []\n",
    "\n",
    "for i in freq:\n",
    "    m = i ; n = i ; p = i ; q = i; \n",
    "    f_evol.append(C*cos(m*pi*x/a)*cos(n*pi*y/b)+D*cos(p*pi*x/a)*cos(q*pi*y/b))\n",
    "    \n",
    "f_evol = np.array(f_evol)\n",
    "\n",
    "f_evol_2 = []\n",
    "for i in range(div_num): \n",
    "    f_evol_2.append(f_evol[0]+i/(div_num-1)*(f_evol[-1]-f_evol[0]))\n",
    "\n",
    "f_evol_2 = np.array(f_evol_2)\n",
    "    \n",
    "\n",
    "\n",
    "fig = plt.figure(figsize=(10, 10))\n",
    "def animate(i):\n",
    "    plt.cla()\n",
    "    plt.contour(x, y, f_evol_2[i,:], [0])\n",
    "    \n",
    "    \n",
    "anim = FuncAnimation(fig, animate, interval=150)\n",
    "\n",
    "plt.show()\n",
    "#anim.save('Shift.mp4')"
   ]
  },
  {
   "cell_type": "code",
   "execution_count": 3,
   "metadata": {},
   "outputs": [],
   "source": [
    "# Frequencies array \n",
    "\n",
    "freq_array = np.array([[1,2,3,4],[1,2,3,4],[3,5,1,4],[3,5,1,4],[4,2,1,7],[4,2,1,7] ])\n",
    "freq_array_evol = [] \n",
    "string_arr = []\n",
    "\n",
    "for f in range(freq_array.shape[0]-1):\n",
    "    m,n,p,q =  freq_array[f,:]\n",
    "    freq_array_1 = C*cos(m*pi*x/a)*cos(n*pi*y/b)+D*cos(p*pi*x/a)*cos(q*pi*y/b) \n",
    "    m,n,p,q =  freq_array[f+1,:]\n",
    "    freq_array_2 = C*cos(m*pi*x/a)*cos(n*pi*y/b)+D*cos(p*pi*x/a)*cos(q*pi*y/b) \n",
    "    if(sum(freq_array[f,:]-freq_array[f+1,:])==0): \n",
    "        for i in range(int(div_num/5)): \n",
    "            freq_array_evol.append(freq_array_1+i/(div_num-1)*(freq_array_2-freq_array_1))\n",
    "            string_arr.append(str(int(f/2)+1))\n",
    "    else: \n",
    "        for i in range(div_num): \n",
    "            freq_array_evol.append(freq_array_1+i/(div_num-1)*(freq_array_2-freq_array_1))\n",
    "            string_arr.append('transition')\n",
    "    \n",
    "string_arr = np.array(string_arr)\n",
    "freq_array_evol = np.array(freq_array_evol)\n",
    "fig = plt.figure(figsize=(10, 10))\n",
    "def animate(i):\n",
    "    plt.cla()\n",
    "    plt.contour(x, y, freq_array_evol[i,:], [0])\n",
    "\n",
    "    plt.annotate('Combination '+(string_arr[i]), xy =(0.5, 0.5))\n",
    "\n",
    "anim = FuncAnimation(fig, animate, interval=150, frames =200)\n",
    "\n",
    "plt.show()\n",
    "#anim.save('Different.mp4')\n"
   ]
  }
 ],
 "metadata": {
  "kernelspec": {
   "display_name": "Python 3",
   "language": "python",
   "name": "python3"
  },
  "language_info": {
   "codemirror_mode": {
    "name": "ipython",
    "version": 3
   },
   "file_extension": ".py",
   "mimetype": "text/x-python",
   "name": "python",
   "nbconvert_exporter": "python",
   "pygments_lexer": "ipython3",
   "version": "3.8.5"
  }
 },
 "nbformat": 4,
 "nbformat_minor": 4
}
