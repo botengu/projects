{
 "cells": [
  {
   "cell_type": "code",
   "execution_count": null,
   "metadata": {},
   "outputs": [],
   "source": [
    "import numpy as np\n",
    "import visvis as vv\n",
    "from visvis import Point, Pointset\n",
    "app = vv.use()\n",
    "\n",
    "# create random points\n",
    "a = np.random.normal(size=(1000,3))\n",
    "pp = Pointset(a)\n",
    "pp *= Point(2,5,1)\n",
    "\n",
    "# prepare axes\n",
    "a = vv.gca()\n",
    "a.cameraType = '3d'\n",
    "a.daspectAuto = False\n",
    "\n",
    "# draw points\n",
    "l = vv.plot(pp, ms='.', mc='r', mw='9', ls='', mew=0 )\n",
    "l.alpha = 0.1\n",
    "\n",
    "app.Run()"
   ]
  },
  {
   "cell_type": "code",
   "execution_count": null,
   "metadata": {},
   "outputs": [],
   "source": []
  }
 ],
 "metadata": {
  "kernelspec": {
   "display_name": "Python 3",
   "language": "python",
   "name": "python3"
  },
  "language_info": {
   "codemirror_mode": {
    "name": "ipython",
    "version": 3
   },
   "file_extension": ".py",
   "mimetype": "text/x-python",
   "name": "python",
   "nbconvert_exporter": "python",
   "pygments_lexer": "ipython3",
   "version": "3.8.2"
  }
 },
 "nbformat": 4,
 "nbformat_minor": 4
}
