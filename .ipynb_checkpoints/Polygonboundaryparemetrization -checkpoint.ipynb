{
 "cells": [
  {
   "cell_type": "code",
   "execution_count": null,
   "metadata": {},
   "outputs": [],
   "source": [
    "import numpy as np\n",
    "import matplotlib.pyplot as plt\n",
    "import random\n",
    "import scipy\n",
    "import math \n",
    "import os \n",
    "import cmath \n",
    "import skimage\n",
    "from skimage import measure, io \n",
    "from PIL import Image\n",
    "from math import sqrt\n",
    "from numpy import sin, cos, sinh, cosh,arcsin,arccos, pi, exp, abs, max,min, sinh, cosh\n",
    "from scipy.spatial import Voronoi, voronoi_plot_2d, distance\n",
    "\n",
    "#Polygons created inside python   \n",
    "def dist(a,b):\n",
    "    return sqrt((b[0]-a[0])**2+(b[1]-a[1])**2)\n",
    "\n",
    "def divide(pts_list,num):\n",
    "    finalpts_list = [] \n",
    "    length = [] \n",
    "    for i in range(pts_list.shape[0]-1):\n",
    "        length.append(dist(pts_list[i,:],pts_list[i+1,:]))\n",
    "    length = np.array(length)\n",
    "    length = length/max(length)\n",
    "    \n",
    "    for i in range(pts_list.shape[0]-1):\n",
    "        dens = int(num*1/length[i])\n",
    "        ini = np.array([pts_list[i,:],]*dens)\n",
    "        fin = np.array([pts_list[i+1,:],]*dens)\n",
    "        t = np.linspace(0,1,dens)\n",
    "        t = np.reshape(t,(dens,1))\n",
    "        finalpts_list.append(ini+t*(fin-ini))\n",
    "        \n",
    "    return np.concatenate(np.array(finalpts_list)) \n",
    "\n",
    "# paralellogram \n",
    "#pts = np.array([[1,1],[3,2],[4,5],[2,4],[1,1]]) \n",
    "\n",
    "# rectanle \n",
    "#pts = np.array([[1,1],[3,1],[3,5],[1,5],[1,1]]) \n",
    "\n",
    "# Octogon   \n",
    "pts = np.array([[1,1],[3,1],[3,5],[1,5],[1,1]])\n",
    "\n",
    "num = 20\n",
    "\n",
    "#num is the maximum amount of divisions\n",
    "pts = divide(pts,num)\n",
    "\n",
    "plt.scatter(pts[:,0],pts[:,1])\n",
    "plt.plot(pts[:,0],pts[:,1])\n",
    "\n",
    "print(pts.shape)"
   ]
  }
 ],
 "metadata": {
  "kernelspec": {
   "display_name": "Python 3",
   "language": "python",
   "name": "python3"
  },
  "language_info": {
   "codemirror_mode": {
    "name": "ipython",
    "version": 3
   },
   "file_extension": ".py",
   "mimetype": "text/x-python",
   "name": "python",
   "nbconvert_exporter": "python",
   "pygments_lexer": "ipython3",
   "version": "3.8.5"
  }
 },
 "nbformat": 4,
 "nbformat_minor": 4
}
