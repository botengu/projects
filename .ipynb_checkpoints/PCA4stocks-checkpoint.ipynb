{
 "cells": [
  {
   "cell_type": "code",
   "execution_count": 108,
   "metadata": {},
   "outputs": [],
   "source": [
    "import urllib\n",
    "import time\n",
    "from datetime import timedelta\n",
    "from datetime import date\n",
    "import os\n",
    "import numpy as np \n",
    "import yfinance as yf\n",
    "import numpy as np\n",
    "import pandas as pd\n",
    "import matplotlib.pyplot as plt\n",
    "import csv\n",
    "\n",
    "from numpy.random import seed\n",
    "from numpy.random import randint\n",
    "from mpl_toolkits.mplot3d import axes3d\n",
    "from bs4 import BeautifulSoup\n",
    "from sklearn.decomposition import PCA\n",
    "from sklearn.preprocessing import normalize\n",
    "from matplotlib import pyplot as plt\n",
    "from sklearn.datasets.samples_generator import make_blobs\n",
    "from sklearn.cluster import KMeans\n",
    "from string import ascii_lowercase\n",
    "from datetime import date"
   ]
  },
  {
   "cell_type": "code",
   "execution_count": 73,
   "metadata": {},
   "outputs": [
    {
     "name": "stdout",
     "output_type": "stream",
     "text": [
      "['MSFT', 'TSLA', 'AMZN', 'GOOGL']\n"
     ]
    }
   ],
   "source": [
    "# Create a list of stocks of interest\n",
    "Stock_list = ['MSFT','TSLA','AMZN','GOOGL']\n",
    "#Stock_list = ['MSFT']\n",
    "print(Stock_list)"
   ]
  },
  {
   "cell_type": "code",
   "execution_count": 77,
   "metadata": {},
   "outputs": [
    {
     "name": "stdout",
     "output_type": "stream",
     "text": [
      "(4, 138)\n"
     ]
    }
   ],
   "source": [
    "# Take all the stocks info \n",
    "\n",
    "X_stock =  []\n",
    "Symbols = [] \n",
    "\n",
    "Full_per = 200 # days \n",
    "div_per = 20\n",
    "\n",
    "# Find the right dates\n",
    "today = date.today()\n",
    "delta = timedelta(days=Full_per)\n",
    "ini_date = today - delta\n",
    "\n",
    "# Loop over selected stocks \n",
    "for tickerSymbol in Stock_list: \n",
    "    # Define the ticker symbol\n",
    "    # Get data on this ticker\n",
    "    tickerData = yf.Ticker(tickerSymbol)\n",
    "    # Get the historical prices for this ticker\n",
    "    fin_date = ini_date\n",
    "    tickerDf = np.array(tickerData.history(period='1d', start=ini_date, end=today))[:,2]\n",
    "    if(not np.isnan(tickerDf).any()):\n",
    "        X_stock.append(tickerDf)\n",
    "        \n",
    "X_stock = np.stack(X_stock, axis=0)\n",
    "print(X_stock.shape)"
   ]
  },
  {
   "cell_type": "code",
   "execution_count": 158,
   "metadata": {},
   "outputs": [
    {
     "name": "stdout",
     "output_type": "stream",
     "text": [
      "20\n",
      "40\n",
      "60\n",
      "80\n",
      "100\n",
      "120\n",
      "138\n"
     ]
    }
   ],
   "source": [
    "# Relative displacements\n",
    "\n",
    "n_stock = X_stock.shape[0] \n",
    "length = X_stock.shape[1] \n",
    "\n",
    "count = div_per\n",
    "All_positions = [] \n",
    "while count-div_per< length: \n",
    "    if(count<length): \n",
    "        r = count\n",
    "    else: \n",
    "        r = length\n",
    "    print(r)\n",
    "    for i in range(n_stock): \n",
    "        X_stock[i,0:r] = (X_stock[i,0:r]- np.min(X_stock[i,0:r]))/(np.max(X_stock[i,0:r]) - np.min(X_stock[i,0:r]))\n",
    "\n",
    "    pca = PCA(n_components=3)\n",
    "    pca.fit(X_stock[:,0:r])\n",
    "    X_pca = pca.transform(X_stock[:,0:r])\n",
    "    All_positions.append(X_pca)\n",
    "\n",
    "    count = count + div_per"
   ]
  },
  {
   "cell_type": "code",
   "execution_count": 125,
   "metadata": {},
   "outputs": [],
   "source": [
    "# Store values in a excel file \n",
    "def using_multiindex(A, columns):\n",
    "    shape = A.shape\n",
    "    index = pd.MultiIndex.from_product([range(s)for s in shape], names=columns)\n",
    "    df = pd.DataFrame({'A': A.flatten()}, index=index).reset_index()\n",
    "    return df\n",
    "\n",
    "Final_array = np.array(All_positions)\n",
    "df = using_multiindex(Final_array, list('ZYX'))\n",
    "df.to_csv(r'C:\\\\Users\\\\AdminSi\\\\Desktop\\\\WebScraper\\\\position.csv',header=False, index = False)"
   ]
  },
  {
   "cell_type": "code",
   "execution_count": 137,
   "metadata": {},
   "outputs": [],
   "source": [
    "# To do in blender\n",
    "with open('C:\\\\Users\\\\AdminSi\\\\Desktop\\\\WebScraper\\\\position.csv', newline='') as csvfile:\n",
    "    data = np.array(list(csv.reader(csvfile)))\n",
    "    \n",
    "data = data.astype(np.float)"
   ]
  },
  {
   "cell_type": "code",
   "execution_count": 157,
   "metadata": {},
   "outputs": [
    {
     "name": "stdout",
     "output_type": "stream",
     "text": [
      "[[ 1.01033315 -0.38451524  0.0372912 ]\n",
      " [ 1.01033315 -0.38451524  0.0372912 ]\n",
      " [ 1.01033315 -0.38451524  0.0372912 ]\n",
      " [ 1.01033315 -0.38451524  0.0372912 ]\n",
      " [ 1.01033315 -0.38451524  0.03729121]\n",
      " [ 1.01034823 -0.38450575  0.03735949]\n",
      " [ 0.98774309 -0.44909511 -0.02672328]]\n"
     ]
    }
   ],
   "source": [
    "idx = np.argwhere(data[:,1]==2)\n",
    "print(data[idx,3].reshape((int(len(idx)/3), 3))-data[idx[0:3],3].reshape((1, 3))  )"
   ]
  },
  {
   "cell_type": "code",
   "execution_count": 49,
   "metadata": {
    "scrolled": true
   },
   "outputs": [
    {
     "name": "stdout",
     "output_type": "stream",
     "text": [
      "2020-07-23\n",
      "2020-07-24\n",
      "True\n"
     ]
    }
   ],
   "source": [
    "today = date.today()\n",
    "delta = timedelta(days=10)\n",
    "ini_date = today - delta\n",
    "fin_date = ini_date + timedelta(days = 11)\n",
    "print(today)\n",
    "print(fin_date)\n",
    "print(fin_date>today)"
   ]
  }
 ],
 "metadata": {
  "kernelspec": {
   "display_name": "Python 3",
   "language": "python",
   "name": "python3"
  },
  "language_info": {
   "codemirror_mode": {
    "name": "ipython",
    "version": 3
   },
   "file_extension": ".py",
   "mimetype": "text/x-python",
   "name": "python",
   "nbconvert_exporter": "python",
   "pygments_lexer": "ipython3",
   "version": "3.8.2"
  }
 },
 "nbformat": 4,
 "nbformat_minor": 4
}
