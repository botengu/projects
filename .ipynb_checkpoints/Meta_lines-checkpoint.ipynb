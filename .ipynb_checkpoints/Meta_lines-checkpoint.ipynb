{
 "cells": [
  {
   "cell_type": "code",
   "execution_count": 1,
   "metadata": {},
   "outputs": [],
   "source": [
    "import numpy as np\n",
    "import visvis as vv\n",
    "import math   \n",
    "import skimage\n",
    "import os\n",
    "from numpy import sin, cos, sinh, cosh, pi, exp, sqrt, min, max \n",
    "from skimage import measure\n",
    "from visvis import Point, Pointset\n",
    "from numpy import inf"
   ]
  },
  {
   "cell_type": "code",
   "execution_count": 16,
   "metadata": {},
   "outputs": [
    {
     "name": "stdout",
     "output_type": "stream",
     "text": [
      "1.0\n",
      "6.4031242374328485\n"
     ]
    }
   ],
   "source": [
    "axes = vv.gca()\n",
    "\n",
    "def cylinder(X,Y,Z): \n",
    "    \n",
    "    func = 0  \n",
    "    edges =np.array([[0,0,0],[1,0,0],[1,0,0],[5,5,0]]) \n",
    "\n",
    "    for i in range(len(edges)): \n",
    "        if(i%2==0):\n",
    "            p1 = edges[i,:]\n",
    "            p2 = edges[i+1,:]\n",
    "            vec = p2 - p1\n",
    "            a,b,c = vec\n",
    "            xx, yy,zz = p1+vec \n",
    "            coeff = np.linalg.norm(p2-p1)\n",
    "            R =0.1\n",
    "            R *=coeff\n",
    "            print(coeff)\n",
    "            cyl = R**2/((a*(Y-yy)-b*(X-xx))**2+(c*(X-xx)-a*(Z-zz))**2+(b*(Z-zz)-c*(Y-yy))**2)\n",
    "            sph = coeff**2/((X-xx)**2 + (Y-yy)**2 + (Z-zz)**2)\n",
    "            func += np.multiply(removeinf(cyl), heavi(sph,2))\n",
    "\n",
    "    return func \n",
    "\n",
    "def cube(x,y,z):\n",
    "    perc = 0.9 \n",
    "    a = x.shape[0]; b = x.shape[1] ; c = x.shape[2]; \n",
    "    \n",
    "    arr = np.ones((a,b,c))\n",
    "    n1 = int(perc*a/2);  n2 = int(perc*b/2); n3 = int(perc*c/2);   \n",
    "    arr[(int(a/2)-n1):(int(a/2)+n1),(int(b/2)-n2):(int(b/2)+n2),(int(c/2)-n3):(int(c/2)+n3)] = 0\n",
    "    return arr \n",
    "\n",
    "\n",
    "def heavi(arr, thres):\n",
    "    arr[arr < thres] = 0\n",
    "    arr[arr > thres] = 1\n",
    "    return arr\n",
    "\n",
    "def removeinf(arr):\n",
    "    arr[arr == inf] = 4\n",
    "    return arr\n",
    "\n",
    "fac = 10  # Should be odd number\n",
    "\n",
    "bot_x = -fac\n",
    "top_x = fac\n",
    "\n",
    "bot_y = -fac\n",
    "top_y = fac\n",
    "\n",
    "bot_z = -fac\n",
    "top_z = fac\n",
    "\n",
    "n = 8*fac # More of a scale then a resolution  \n",
    "\n",
    "x = np.linspace(bot_x,top_x,n)\n",
    "y = np.linspace(bot_y,top_y,n)\n",
    "z = np.linspace(bot_z,top_z,n)\n",
    "X, Y, Z =  np.meshgrid(x, y, z)\n",
    "\n",
    "vol = cylinder(X,Y,Z) \n",
    "\n",
    "# Extract a 2D surface mesh from a 3D volume (F=0)\n",
    "mesh = vv.isosurface(vol,0.1)\n",
    "m = vv.mesh(mesh)\n",
    "#vv.meshWrite(os.path.expanduser('~/Desktop/CAGD/stlFiles/cylinders.stl'), m)\n",
    "app = vv.use()\n",
    "app.Run()\n"
   ]
  },
  {
   "cell_type": "code",
   "execution_count": null,
   "metadata": {},
   "outputs": [],
   "source": [
    "# Create small lattice structure to see if it works\n",
    "\n"
   ]
  }
 ],
 "metadata": {
  "kernelspec": {
   "display_name": "Python 3",
   "language": "python",
   "name": "python3"
  },
  "language_info": {
   "codemirror_mode": {
    "name": "ipython",
    "version": 3
   },
   "file_extension": ".py",
   "mimetype": "text/x-python",
   "name": "python",
   "nbconvert_exporter": "python",
   "pygments_lexer": "ipython3",
   "version": "3.8.2"
  }
 },
 "nbformat": 4,
 "nbformat_minor": 4
}
