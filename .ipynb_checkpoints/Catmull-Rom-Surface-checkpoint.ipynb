{
 "cells": [
  {
   "cell_type": "code",
   "execution_count": 10,
   "metadata": {},
   "outputs": [
    {
     "data": {
      "image/png": "[encoded data removed]",
      "text/plain": [
       "<Figure size 432x288 with 1 Axes>"
      ]
     },
     "metadata": {
      "needs_background": "light"
     },
     "output_type": "display_data"
    }
   ],
   "source": [
    "# Imports \n",
    "import numpy as np\n",
    "import random\n",
    "import scipy\n",
    "import math \n",
    "import matplotlib.pyplot as plt\n",
    "from math import factorial as fac\n",
    "from numpy import sin, cos, sinh, cosh,arcsin,arccos, pi, exp,abs\n",
    "\n",
    "\n",
    "def Catmull(pts, div_num):\n",
    "    pts = np.insert(pts, 1, pts[0,:], 0) \n",
    "    pts = np.insert(pts, -1, pts[-1,:], 0)  \n",
    "    s = 0.5\n",
    "    basis_mat = np.array([[-s, 2-s, s-2, s],[2*s, s-3, 3-2*s,-s],[-s, 0, s,0],[0, 1, 0,0] ]) \n",
    "\n",
    "    count = 0 \n",
    "    bigger_list= []\n",
    "\n",
    "    while count+4<=pts.shape[0]: \n",
    "        array2 = pts[count:count+4,:]\n",
    "        t = np.linspace(0,1,div_num) \n",
    "        list_of_pts2 = [] \n",
    "        for item in t:\n",
    "            t_mat = np.array([item**3,item**2,item,1 ])\n",
    "            pt = np.matmul(t_mat, np.matmul(basis_mat,array2))\n",
    "            list_of_pts2.append(pt)\n",
    "        bigger_list.append(list_of_pts2)\n",
    "\n",
    "        count = count+1\n",
    "\n",
    "    ini_big =np.array(bigger_list) \n",
    "    bigger_list = np.reshape(ini_big,(ini_big.shape[0]*ini_big.shape[1],ini_big.shape[2]))\n",
    "    return bigger_list\n",
    "\n",
    "pts = np.array([[0,0,0],[1,2,0],[2,-3,0], [3,3,0],[4,0,0]])\n",
    "\n",
    "\n",
    "result = np.array([[0,0,0],[1,2,0],[2,-3,0], [3,3,0],[4,0,0]])\n",
    "\n",
    "plt.plot(bigger_list[:,0],bigger_list[:,1])\n",
    "plt.show()"
   ]
  },
  {
   "cell_type": "code",
   "execution_count": 14,
   "metadata": {},
   "outputs": [
    {
     "name": "stdout",
     "output_type": "stream",
     "text": [
      "[[ 0  0  0]\n",
      " [ 0  0  0]\n",
      " [ 1  2  0]\n",
      " [ 2 -3  0]\n",
      " [ 3  3  0]\n",
      " [ 4  0  0]\n",
      " [ 4  0  0]]\n"
     ]
    }
   ],
   "source": [
    "# Duplicate first and last point \n",
    "\n",
    "print(pts)"
   ]
  },
  {
   "cell_type": "code",
   "execution_count": null,
   "metadata": {},
   "outputs": [],
   "source": [
    "array1 = np.random.rand(4,5,3)\n",
    "array2 = np.reshape(array1,(array1.shape[0]*array1.shape[1], 3))"
   ]
  },
  {
   "cell_type": "code",
   "execution_count": null,
   "metadata": {},
   "outputs": [],
   "source": [
    "# Open the densities \n",
    "qual = []\n",
    "\n",
    "with open('C:\\\\Users\\\\AdminSi\\\\Desktop\\\\CAGD\\\\PythonOcc\\\\BezierSurface\\\\Manufacturability.csv') as csvfile:\n",
    "    readCSV = csv.reader(csvfile)\n",
    "    for row in readCSV:\n",
    "        for i in row:\n",
    "            qual.append(float(i)) \n",
    "\n",
    "angles = 11 \n",
    "radii = 13\n",
    "Q = np.reshape(qual, (angles, radii))\n",
    "\n",
    "x = np.arange(0.2, 0.85, 0.05)\n",
    "y = np.arange(70, 15, -5)\n",
    "X, Y = np.meshgrid(x, y)\n",
    "\n",
    "a1 = np.reshape(X,(X.shape[0]*X.shape[1],1))\n",
    "a2 = np.reshape(Y,(Y.shape[0]*Y.shape[1],1))\n",
    "a3 = np.reshape(Q,(Q.shape[0]*Q.shape[1],1))\n",
    "\n",
    "array2 = np.hstack((a1,a2,a3))\n",
    "\n",
    "array2 = np.reshape(array2,(angles,radii,3))"
   ]
  }
 ],
 "metadata": {
  "kernelspec": {
   "display_name": "Python 3",
   "language": "python",
   "name": "python3"
  },
  "language_info": {
   "codemirror_mode": {
    "name": "ipython",
    "version": 3
   },
   "file_extension": ".py",
   "mimetype": "text/x-python",
   "name": "python",
   "nbconvert_exporter": "python",
   "pygments_lexer": "ipython3",
   "version": "3.8.5"
  }
 },
 "nbformat": 4,
 "nbformat_minor": 4
}
