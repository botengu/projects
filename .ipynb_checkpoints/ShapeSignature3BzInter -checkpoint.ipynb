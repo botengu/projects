{
 "cells": [
  {
   "cell_type": "code",
   "execution_count": 9,
   "metadata": {},
   "outputs": [
    {
     "name": "stdout",
     "output_type": "stream",
     "text": [
      "[[ 0.05241027  0.93510344]\n",
      " [ 0.00187185  0.83448607]\n",
      " [-0.04525638  0.7364609 ]\n",
      " [-0.08556422  0.64362012]\n",
      " [-0.11564147  0.55855593]\n",
      " [-0.13207794  0.48386053]\n",
      " [-0.13146343  0.42212612]\n",
      " [-0.11038775  0.37594489]\n",
      " [-0.06544071  0.34790904]\n",
      " [ 0.0067879   0.34061076]\n",
      " [ 0.0067879   0.34061076]\n",
      " [ 0.10771753  0.35529893]\n",
      " [ 0.23080468  0.38784904]\n",
      " [ 0.36751512  0.43279329]\n",
      " [ 0.5093146   0.48466385]\n",
      " [ 0.6476689   0.5379929 ]\n",
      " [ 0.77404377  0.58731262]\n",
      " [ 0.87990498  0.62715518]\n",
      " [ 0.95671829  0.65205276]\n",
      " [ 0.99594946  0.65653754]\n",
      " [ 0.99594946  0.65653754]\n",
      " [ 0.99194059  0.63701098]\n",
      " [ 0.95053912  0.59735162]\n",
      " [ 0.88046879  0.54330729]\n",
      " [ 0.79045339  0.48062579]\n",
      " [ 0.68921666  0.41505495]\n",
      " [ 0.58548238  0.35234259]\n",
      " [ 0.4879743   0.29823652]\n",
      " [ 0.4054162   0.25848458]\n",
      " [ 0.34653182  0.23883458]\n",
      " [ 0.34653182  0.23883458]\n",
      " [ 0.31799103  0.24359767]\n",
      " [ 0.31824801  0.27133831]\n",
      " [ 0.34370305  0.31918433]\n",
      " [ 0.39075641  0.38426352]\n",
      " [ 0.45580838  0.46370369]\n",
      " [ 0.53525925  0.55463263]\n",
      " [ 0.62550927  0.65417817]\n",
      " [ 0.72295874  0.75946809]\n",
      " [ 0.82400793  0.86763021]]\n"
     ]
    },
    {
     "data": {
      "text/plain": [
       "\" \\nplt.figure(figsize=(11, 8))\\nplt.plot(px, py, 'b-')\\nplt.plot(points[:,0], points[:,1], 'ro')\\nplt.show()\\n\""
      ]
     },
     "execution_count": 9,
     "metadata": {},
     "output_type": "execute_result"
    }
   ],
   "source": [
    "import numpy as np\n",
    "import matplotlib.pyplot as plt\n",
    "import sys\n",
    "sys.path.insert(1, 'C:/Users/AdminSi/Desktop/CAGD/Python/')\n",
    "from Bezier_Interpolation import evaluate_bezier,BzInter\n",
    "\n",
    "\n",
    "points = np.random.rand(5, 2)\n",
    "\n",
    "\n",
    "pts = evaluate_bezier(points,10))\n",
    "\n",
    "\n",
    "plt.figure(figsize=(11, 8))\n",
    "plt.plot(points[:,0], points[:,1], 'b-')\n",
    "plt.plot(points[:,0], points[:,1], 'ro')\n",
    "plt.show()\n",
    "'''\n",
    "''' \n"
   ]
  },
  {
   "cell_type": "code",
   "execution_count": null,
   "metadata": {},
   "outputs": [],
   "source": []
  }
 ],
 "metadata": {
  "kernelspec": {
   "display_name": "Python 3",
   "language": "python",
   "name": "python3"
  },
  "language_info": {
   "codemirror_mode": {
    "name": "ipython",
    "version": 3
   },
   "file_extension": ".py",
   "mimetype": "text/x-python",
   "name": "python",
   "nbconvert_exporter": "python",
   "pygments_lexer": "ipython3",
   "version": "3.8.5"
  }
 },
 "nbformat": 4,
 "nbformat_minor": 4
}
