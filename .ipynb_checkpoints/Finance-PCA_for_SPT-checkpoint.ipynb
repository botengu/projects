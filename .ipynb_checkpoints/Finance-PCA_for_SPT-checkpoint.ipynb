{
 "cells": [
  {
   "cell_type": "code",
   "execution_count": 2,
   "metadata": {},
   "outputs": [
    {
     "name": "stderr",
     "output_type": "stream",
     "text": [
      "C:\\Users\\AIT\\anaconda3\\lib\\site-packages\\sklearn\\utils\\deprecation.py:143: FutureWarning: The sklearn.datasets.samples_generator module is  deprecated in version 0.22 and will be removed in version 0.24. The corresponding classes / functions should instead be imported from sklearn.datasets. Anything that cannot be imported from sklearn.datasets is now part of the private API.\n",
      "  warnings.warn(message, FutureWarning)\n"
     ]
    },
    {
     "name": "stdout",
     "output_type": "stream",
     "text": [
      "Using matplotlib backend: Qt5Agg\n",
      "['MSFT', 'TSLA', 'AMZN', 'GOOGL']\n"
     ]
    }
   ],
   "source": [
    "import urllib\n",
    "import time\n",
    "from datetime import timedelta\n",
    "from datetime import date\n",
    "import os\n",
    "import numpy as np \n",
    "import yfinance as yf\n",
    "import numpy as np\n",
    "import pandas as pd\n",
    "import matplotlib.pyplot as plt\n",
    "import csv\n",
    "\n",
    "from numpy.random import seed\n",
    "from numpy.random import randint\n",
    "from mpl_toolkits.mplot3d import axes3d\n",
    "from bs4 import BeautifulSoup\n",
    "from sklearn.decomposition import PCA\n",
    "from sklearn.preprocessing import normalize\n",
    "from matplotlib import pyplot as plt\n",
    "from sklearn.datasets.samples_generator import make_blobs\n",
    "from sklearn.cluster import KMeans\n",
    "from string import ascii_lowercase\n",
    "from datetime import date\n",
    "from matplotlib.animation import FuncAnimation\n",
    "\n",
    "plt.style.use('ggplot')\n",
    "%matplotlib\n",
    "\n",
    "# Create a list of stocks of interest\n",
    "Stock_list = ['MSFT','TSLA','AMZN','GOOGL']\n",
    "#Stock_list = ['MSFT']\n",
    "print(Stock_list)"
   ]
  },
  {
   "cell_type": "code",
   "execution_count": 3,
   "metadata": {},
   "outputs": [],
   "source": [
    "# Take all the stocks info \n",
    "\n",
    "X_stock =  []\n",
    "Symbols = [] \n",
    "\n",
    "Full_per = 200 # days \n",
    "div_per = 20\n",
    "\n",
    "# Find the right dates\n",
    "today = date.today()\n",
    "delta = timedelta(days=Full_per)\n",
    "ini_date = today - delta\n",
    "\n",
    "# Loop over selected stocks \n",
    "for tickerSymbol in Stock_list: \n",
    "    # Define the ticker symbol\n",
    "    # Get data on this ticker\n",
    "    tickerData = yf.Ticker(tickerSymbol)\n",
    "    # Get the historical prices for this ticker\n",
    "    fin_date = ini_date\n",
    "    tickerDf = np.array(tickerData.history(period='1d', start=ini_date, end=today))[:,2]\n",
    "    if(not np.isnan(tickerDf).any()):\n",
    "        X_stock.append(tickerDf)\n",
    "        \n",
    "X_stock = np.stack(X_stock, axis=0)"
   ]
  },
  {
   "cell_type": "code",
   "execution_count": 4,
   "metadata": {},
   "outputs": [],
   "source": [
    "# Relative displacements\n",
    "\n",
    "n_stock = X_stock.shape[0] \n",
    "length = X_stock.shape[1] \n",
    "\n",
    "count = div_per\n",
    "All_positions = [] \n",
    "while count-div_per< length: \n",
    "    if(count<length): \n",
    "        r = count\n",
    "    else: \n",
    "        r = length\n",
    "    for i in range(n_stock): \n",
    "        X_stock[i,0:r] = (X_stock[i,0:r]- np.min(X_stock[i,0:r]))/(np.max(X_stock[i,0:r]) - np.min(X_stock[i,0:r]))\n",
    "\n",
    "    pca = PCA(n_components=2)\n",
    "    pca.fit(X_stock[:,0:r])\n",
    "    X_pca = pca.transform(X_stock[:,0:r])\n",
    "    All_positions.append(X_pca)\n",
    "\n",
    "    count = count + div_per\n",
    "    \n",
    "Final_array = np.array(All_positions)"
   ]
  },
  {
   "cell_type": "code",
   "execution_count": 8,
   "metadata": {},
   "outputs": [
    {
     "data": {
      "text/plain": [
       "(-1.0, 1.0)"
      ]
     },
     "execution_count": 8,
     "metadata": {},
     "output_type": "execute_result"
    }
   ],
   "source": [
    "# Create an animation to move the stocks based on the set of positions \n",
    "\n",
    "\n",
    "m = Final_array # m is an array of (x,y,z) coordinate triplets\n",
    "\n",
    "fig, ax = plt.subplots(figsize=(5, 5))\n",
    " \n",
    "def animate(i):\n",
    "    ax.cla()\n",
    "    for j in range(Final_array.shape[1]):\n",
    "        ax.scatter(m[i,j,0], m[i,j,1])\n",
    "        ax.text(m[i,j,0], m[i,j,1], '%s' % (Stock_list[j]), size=10)\n",
    "        \n",
    "anim = FuncAnimation(fig, animate, interval=100)\n",
    "\n",
    "\n",
    "plt.show()\n",
    "ax.set_xlim([-1, 1])\n",
    "ax.set_ylim([-1, 1])\n"
   ]
  }
 ],
 "metadata": {
  "kernelspec": {
   "display_name": "Python 3",
   "language": "python",
   "name": "python3"
  },
  "language_info": {
   "codemirror_mode": {
    "name": "ipython",
    "version": 3
   },
   "file_extension": ".py",
   "mimetype": "text/x-python",
   "name": "python",
   "nbconvert_exporter": "python",
   "pygments_lexer": "ipython3",
   "version": "3.8.5"
  }
 },
 "nbformat": 4,
 "nbformat_minor": 4
}
