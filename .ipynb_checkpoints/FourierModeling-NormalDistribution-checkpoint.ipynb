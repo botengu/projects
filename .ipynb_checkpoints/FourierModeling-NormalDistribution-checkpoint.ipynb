{
 "cells": [
  {
   "cell_type": "code",
   "execution_count": 1,
   "metadata": {},
   "outputs": [
    {
     "name": "stdout",
     "output_type": "stream",
     "text": [
      "Using matplotlib backend: Qt5Agg\n",
      "(100, 50)\n",
      "(100, 51)\n"
     ]
    },
    {
     "data": {
      "text/plain": [
       "'\\nzfinal = freq_Circle(coeff) \\n\\nfig, axes = plt.subplots(nrows=1, ncols=2, figsize=(10, 5))\\naxes[0].plot(zfinal.real,zfinal.imag)\\naxes[1].plot(coeff)\\nfig.tight_layout()\\n\\nplt.show()\\n'"
      ]
     },
     "execution_count": 1,
     "metadata": {},
     "output_type": "execute_result"
    }
   ],
   "source": [
    "import numpy as np\n",
    "import matplotlib.pyplot as plt\n",
    "import random\n",
    "import scipy\n",
    "import math \n",
    "import os \n",
    "import cmath \n",
    "from skimage import measure\n",
    "from math import sqrt\n",
    "from numpy import sin, cos, sinh, cosh,arcsin,arccos, pi, exp, abs, max,min, sinh, cosh\n",
    "from matplotlib.animation import FuncAnimation\n",
    "%matplotlib\n",
    "\n",
    "# Transition function \n",
    "def transiMat(MatTransi, div_num): \n",
    "    MatTransi_evol = [] \n",
    "    for f in range(MatTransi.shape[0]-1):\n",
    "        for i in range(int(div_num)): \n",
    "            MatTransi_evol.append(MatTransi[f,:]+i/(div_num-1)*(MatTransi[f+1,:]-MatTransi[f,:]))\n",
    "        \n",
    "    MatTransi_evol = np.array(MatTransi_evol)\n",
    "    \n",
    "    return MatTransi_evol\n",
    "\n",
    "# For all frequencies graphs make a figure \n",
    "def freq_Circle(arr_freq): # 3 different\n",
    "    z_arr = []\n",
    "    for k in range(arr_freq.shape[0]): \n",
    "        M= int(N)\n",
    "        zfinal = 0\n",
    "        m = np.arange(0,N)\n",
    "        for i in range(M): \n",
    "            zfinal += arr_freq[k,i]*exp(2j*pi*(i)*m/N)\n",
    "\n",
    "        zfinal = np.hstack([zfinal, zfinal[0]])\n",
    "        z_arr.append(zfinal)\n",
    "        \n",
    "    return np.array(z_arr)\n",
    "\n",
    "def mirrored(maxval, inc=1):\n",
    "    x = np.arange(inc, maxval, inc)\n",
    "    if x[-1] != maxval:\n",
    "        x = np.r_[x, maxval]\n",
    "    return np.r_[-x[::-1], 0, x]\n",
    "\n",
    "# Discretizing amount \n",
    "N  = 50 \n",
    "\n",
    "max_val = N \n",
    "\n",
    "sample_num = 3\n",
    "coeffs = np.zeros((sample_num,N))\n",
    "\n",
    "for i in range(sample_num): \n",
    "    array_size = random.randint(1,2)\n",
    "    ran =  sorted(random.sample(range(max_val), array_size), key=int)\n",
    "    amplitude = np.random.rand(1,array_size)\n",
    "    coeffs[i,ran] = amplitude\n",
    "    print(mirrored(0.1, 0.04)*25+25)\n",
    "    \n",
    "    \n",
    "    \n",
    "final_mat = transiMat(coeffs, 50) \n",
    "\n",
    "# Transform the matrix \n",
    "\n",
    "print(final_mat.shape)\n",
    "zfinal = freq_Circle(final_mat) \n",
    "print(zfinal.shape)\n",
    "\n",
    "\n",
    "#------- \n",
    "fig, axes = plt.subplots(nrows=1, ncols=2, figsize=(10, 5))\n",
    "\n",
    "def animate(i):\n",
    "    axes[0].cla()\n",
    "    axes[0].plot(zfinal[i,:].real,zfinal[i,:].imag)\n",
    "    axes[1].cla()\n",
    "    axes[1].plot(final_mat[i,:])\n",
    "    \n",
    "anim = FuncAnimation(fig, animate, interval=150)\n",
    "plt.show()\n",
    "#anim.save('parallel.mp4')\n",
    "\n",
    "'''\n",
    "'''\n",
    "'''\n",
    "zfinal = freq_Circle(coeff) \n",
    "\n",
    "fig, axes = plt.subplots(nrows=1, ncols=2, figsize=(10, 5))\n",
    "axes[0].plot(zfinal.real,zfinal.imag)\n",
    "axes[1].plot(coeff)\n",
    "fig.tight_layout()\n",
    "\n",
    "plt.show()\n",
    "'''\n"
   ]
  },
  {
   "cell_type": "code",
   "execution_count": null,
   "metadata": {},
   "outputs": [],
   "source": [
    "# Find another waya to design it \n",
    "# One central pic and symmetrical small frequencies around it\n",
    "# Then reverse the trend"
   ]
  },
  {
   "cell_type": "code",
   "execution_count": 10,
   "metadata": {},
   "outputs": [],
   "source": [
    "xx = np.linspace(0,50)/50\n",
    "\n",
    "sigma = 2 \n",
    "mu= 0.5\n",
    "plt.figure(figsize=(5, 5))\n",
    "plt.plot( 1/(sigma * np.sqrt(2 * np.pi)) *np.exp( - (xx - mu)**2 / (2 * sigma**2) ),\n",
    "         linewidth=2, color='r')\n",
    "plt.show()"
   ]
  },
  {
   "cell_type": "code",
   "execution_count": 1,
   "metadata": {},
   "outputs": [
    {
     "ename": "NameError",
     "evalue": "name 'np' is not defined",
     "output_type": "error",
     "traceback": [
      "\u001b[1;31m---------------------------------------------------------------------------\u001b[0m",
      "\u001b[1;31mNameError\u001b[0m                                 Traceback (most recent call last)",
      "\u001b[1;32m<ipython-input-1-b579e4b7b6f5>\u001b[0m in \u001b[0;36m<module>\u001b[1;34m\u001b[0m\n\u001b[0;32m      5\u001b[0m     \u001b[1;32mreturn\u001b[0m \u001b[0mnp\u001b[0m\u001b[1;33m.\u001b[0m\u001b[0mr_\u001b[0m\u001b[1;33m[\u001b[0m\u001b[1;33m-\u001b[0m\u001b[0mx\u001b[0m\u001b[1;33m[\u001b[0m\u001b[1;33m:\u001b[0m\u001b[1;33m:\u001b[0m\u001b[1;33m-\u001b[0m\u001b[1;36m1\u001b[0m\u001b[1;33m]\u001b[0m\u001b[1;33m,\u001b[0m \u001b[1;36m0\u001b[0m\u001b[1;33m,\u001b[0m \u001b[0mx\u001b[0m\u001b[1;33m]\u001b[0m\u001b[1;33m\u001b[0m\u001b[1;33m\u001b[0m\u001b[0m\n\u001b[0;32m      6\u001b[0m \u001b[1;33m\u001b[0m\u001b[0m\n\u001b[1;32m----> 7\u001b[1;33m \u001b[0mprint\u001b[0m\u001b[1;33m(\u001b[0m\u001b[0mmirrored\u001b[0m\u001b[1;33m(\u001b[0m\u001b[1;36m0.1\u001b[0m\u001b[1;33m,\u001b[0m \u001b[1;36m0.04\u001b[0m\u001b[1;33m)\u001b[0m\u001b[1;33m*\u001b[0m\u001b[1;36m25\u001b[0m\u001b[1;33m+\u001b[0m\u001b[1;36m25\u001b[0m\u001b[1;33m)\u001b[0m\u001b[1;33m\u001b[0m\u001b[1;33m\u001b[0m\u001b[0m\n\u001b[0m",
      "\u001b[1;32m<ipython-input-1-b579e4b7b6f5>\u001b[0m in \u001b[0;36mmirrored\u001b[1;34m(maxval, inc)\u001b[0m\n\u001b[0;32m      1\u001b[0m \u001b[1;32mdef\u001b[0m \u001b[0mmirrored\u001b[0m\u001b[1;33m(\u001b[0m\u001b[0mmaxval\u001b[0m\u001b[1;33m,\u001b[0m \u001b[0minc\u001b[0m\u001b[1;33m=\u001b[0m\u001b[1;36m1\u001b[0m\u001b[1;33m)\u001b[0m\u001b[1;33m:\u001b[0m\u001b[1;33m\u001b[0m\u001b[1;33m\u001b[0m\u001b[0m\n\u001b[1;32m----> 2\u001b[1;33m     \u001b[0mx\u001b[0m \u001b[1;33m=\u001b[0m \u001b[0mnp\u001b[0m\u001b[1;33m.\u001b[0m\u001b[0marange\u001b[0m\u001b[1;33m(\u001b[0m\u001b[0minc\u001b[0m\u001b[1;33m,\u001b[0m \u001b[0mmaxval\u001b[0m\u001b[1;33m,\u001b[0m \u001b[0minc\u001b[0m\u001b[1;33m)\u001b[0m\u001b[1;33m\u001b[0m\u001b[1;33m\u001b[0m\u001b[0m\n\u001b[0m\u001b[0;32m      3\u001b[0m     \u001b[1;32mif\u001b[0m \u001b[0mx\u001b[0m\u001b[1;33m[\u001b[0m\u001b[1;33m-\u001b[0m\u001b[1;36m1\u001b[0m\u001b[1;33m]\u001b[0m \u001b[1;33m!=\u001b[0m \u001b[0mmaxval\u001b[0m\u001b[1;33m:\u001b[0m\u001b[1;33m\u001b[0m\u001b[1;33m\u001b[0m\u001b[0m\n\u001b[0;32m      4\u001b[0m         \u001b[0mx\u001b[0m \u001b[1;33m=\u001b[0m \u001b[0mnp\u001b[0m\u001b[1;33m.\u001b[0m\u001b[0mr_\u001b[0m\u001b[1;33m[\u001b[0m\u001b[0mx\u001b[0m\u001b[1;33m,\u001b[0m \u001b[0mmaxval\u001b[0m\u001b[1;33m]\u001b[0m\u001b[1;33m\u001b[0m\u001b[1;33m\u001b[0m\u001b[0m\n\u001b[0;32m      5\u001b[0m     \u001b[1;32mreturn\u001b[0m \u001b[0mnp\u001b[0m\u001b[1;33m.\u001b[0m\u001b[0mr_\u001b[0m\u001b[1;33m[\u001b[0m\u001b[1;33m-\u001b[0m\u001b[0mx\u001b[0m\u001b[1;33m[\u001b[0m\u001b[1;33m:\u001b[0m\u001b[1;33m:\u001b[0m\u001b[1;33m-\u001b[0m\u001b[1;36m1\u001b[0m\u001b[1;33m]\u001b[0m\u001b[1;33m,\u001b[0m \u001b[1;36m0\u001b[0m\u001b[1;33m,\u001b[0m \u001b[0mx\u001b[0m\u001b[1;33m]\u001b[0m\u001b[1;33m\u001b[0m\u001b[1;33m\u001b[0m\u001b[0m\n",
      "\u001b[1;31mNameError\u001b[0m: name 'np' is not defined"
     ]
    }
   ],
   "source": []
  },
  {
   "cell_type": "code",
   "execution_count": 15,
   "metadata": {},
   "outputs": [
    {
     "name": "stdout",
     "output_type": "stream",
     "text": [
      "[6, 19, 20, 21]\n",
      "[[0.81740866 0.26992877 0.84272408 0.09238825]]\n"
     ]
    }
   ],
   "source": [
    "max_val =30\n",
    "array_size = random.randint(3,4)\n",
    "ran =  sorted(random.sample(range(max_val), array_size), key=int)\n",
    "amplitude = np.random.rand(1,array_size)\n",
    "\n",
    "print(ran)\n",
    "print(amplitude)"
   ]
  },
  {
   "cell_type": "code",
   "execution_count": 93,
   "metadata": {},
   "outputs": [
    {
     "name": "stdout",
     "output_type": "stream",
     "text": [
      "Using matplotlib backend: Qt5Agg\n"
     ]
    }
   ],
   "source": [
    "# Vary location of frequency 3-4 locations \n",
    "# Vary height of frequency 2 with respect to each other\n",
    "\n",
    "\n",
    "# Vary amount of frequencies 3-4 locations "
   ]
  }
 ],
 "metadata": {
  "kernelspec": {
   "display_name": "Python 3",
   "language": "python",
   "name": "python3"
  },
  "language_info": {
   "codemirror_mode": {
    "name": "ipython",
    "version": 3
   },
   "file_extension": ".py",
   "mimetype": "text/x-python",
   "name": "python",
   "nbconvert_exporter": "python",
   "pygments_lexer": "ipython3",
   "version": "3.8.5"
  }
 },
 "nbformat": 4,
 "nbformat_minor": 4
}
