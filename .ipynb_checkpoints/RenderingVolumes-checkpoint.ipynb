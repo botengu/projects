{
 "cells": [
  {
   "cell_type": "code",
   "execution_count": 1,
   "metadata": {},
   "outputs": [],
   "source": [
    "import visvis as vv\n",
    "import numpy as np\n",
    "import random\n",
    "import visvis as vv\n",
    "import scipy\n",
    "import math \n",
    "import skimage\n",
    "from skimage import measure\n",
    "from numpy import sin, cos, sinh, cosh,arcsin,arccos, pi, exp\n",
    "from visvis import Point, Pointset\n",
    "from scipy.spatial import Voronoi, voronoi_plot_2d, distance \n"
   ]
  },
  {
   "cell_type": "code",
   "execution_count": 2,
   "metadata": {},
   "outputs": [
    {
     "name": "stdout",
     "output_type": "stream",
     "text": [
      "[[[  0.    0.    0.  ...   0.    0.    0. ]\n",
      "  [  0.    0.    0.  ...   0.    0.    0. ]\n",
      "  [  0.    0.    0.  ...   0.    0.    0. ]\n",
      "  ...\n",
      "  [  0.    0.    0.  ... 250.  125.  187.5]\n",
      "  [  0.    0.    0.  ... 187.5 187.5 250. ]\n",
      "  [  0.    0.    0.  ... 312.5 250.  312.5]]\n",
      "\n",
      " [[  0.    0.    0.  ...   0.    0.    0. ]\n",
      "  [  0.    0.    0.  ...   0.    0.    0. ]\n",
      "  [  0.    0.    0.  ...   0.    0.    0. ]\n",
      "  ...\n",
      "  [  0.    0.    0.  ... 250.  125.  187.5]\n",
      "  [  0.    0.    0.  ... 187.5 187.5 187.5]\n",
      "  [  0.    0.    0.  ... 312.5 250.  312.5]]\n",
      "\n",
      " [[  0.    0.    0.  ...   0.    0.    0. ]\n",
      "  [  0.    0.    0.  ...   0.    0.    0. ]\n",
      "  [  0.    0.    0.  ...   0.    0.    0. ]\n",
      "  ...\n",
      "  [  0.    0.    0.  ... 250.  125.  187.5]\n",
      "  [  0.    0.    0.  ... 250.  187.5 187.5]\n",
      "  [  0.    0.    0.  ... 375.  312.5 250. ]]\n",
      "\n",
      " ...\n",
      "\n",
      " [[ 62.5  62.5  62.5 ...   0.    0.    0. ]\n",
      "  [  0.   62.5   0.  ...   0.    0.    0. ]\n",
      "  [  0.    0.    0.  ...   0.    0.    0. ]\n",
      "  ...\n",
      "  [  0.    0.    0.  ...   0.    0.    0. ]\n",
      "  [  0.    0.    0.  ...   0.    0.    0. ]\n",
      "  [  0.    0.    0.  ...   0.    0.    0. ]]\n",
      "\n",
      " [[  0.    0.    0.  ...   0.    0.    0. ]\n",
      "  [  0.   62.5   0.  ...   0.    0.    0. ]\n",
      "  [  0.    0.    0.  ...   0.    0.    0. ]\n",
      "  ...\n",
      "  [  0.    0.    0.  ...   0.    0.    0. ]\n",
      "  [  0.    0.    0.  ...   0.    0.    0. ]\n",
      "  [  0.    0.    0.  ...   0.    0.    0. ]]\n",
      "\n",
      " [[  0.    0.    0.  ...   0.    0.    0. ]\n",
      "  [  0.    0.    0.  ...   0.    0.    0. ]\n",
      "  [  0.    0.    0.  ...   0.    0.    0. ]\n",
      "  ...\n",
      "  [  0.    0.    0.  ...   0.    0.    0. ]\n",
      "  [  0.    0.    0.  ...   0.    0.    0. ]\n",
      "  [  0.    0.    0.  ...   0.    0.    0. ]]]\n"
     ]
    },
    {
     "data": {
      "text/plain": [
       "<visvis.wobjects.textures.Texture3D at 0x24b12a0fb80>"
      ]
     },
     "execution_count": 2,
     "metadata": {},
     "output_type": "execute_result"
    }
   ],
   "source": [
    "app = vv.use()\n",
    "\n",
    "# Load volume\n",
    "vol = vv.volread('stent')\n",
    "\n",
    "vv.volshow(vol)\n",
    "\n",
    "# Create figure and make subplots with different renderers\n",
    "vv.figure(1); vv.clf()\n",
    "RS = ['mip', 'iso', 'edgeray', 'ray', 'litray']\n",
    "a0 = None\n",
    "tt = []\n",
    "for i in range(5):\n",
    "    a = vv.subplot(3,2,i+2)\n",
    "    t = \n",
    "    vv.title('Renderstyle ' + RS[i])\n",
    "    t.colormap = vv.CM_HOT\n",
    "    t.renderStyle = RS[i]\n",
    "    t.isoThreshold = 200  # Only used in iso render style\n",
    "    tt.append(t)\n",
    "    if a0 is None:\n",
    "        a0 = a\n",
    "    else:\n",
    "        a.camera = a0.camera\n",
    "\n",
    "# Create colormap editor in first axes\n",
    "cme = vv.ColormapEditor(vv.gcf(), *tt[3:])\n",
    "\n",
    "# Run app\n",
    "app.Create()\n",
    "app.Run()"
   ]
  },
  {
   "cell_type": "code",
   "execution_count": null,
   "metadata": {},
   "outputs": [],
   "source": []
  }
 ],
 "metadata": {
  "kernelspec": {
   "display_name": "Python 3",
   "language": "python",
   "name": "python3"
  },
  "language_info": {
   "codemirror_mode": {
    "name": "ipython",
    "version": 3
   },
   "file_extension": ".py",
   "mimetype": "text/x-python",
   "name": "python",
   "nbconvert_exporter": "python",
   "pygments_lexer": "ipython3",
   "version": "3.8.2"
  }
 },
 "nbformat": 4,
 "nbformat_minor": 4
}
