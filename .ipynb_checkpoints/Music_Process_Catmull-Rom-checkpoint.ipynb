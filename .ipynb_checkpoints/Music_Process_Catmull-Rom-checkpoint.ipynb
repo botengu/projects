{
 "cells": [
  {
   "cell_type": "code",
   "execution_count": 26,
   "metadata": {},
   "outputs": [
    {
     "name": "stdout",
     "output_type": "stream",
     "text": [
      "(6982, 2)\n"
     ]
    },
    {
     "name": "stderr",
     "output_type": "stream",
     "text": [
      "C:\\Users\\AdminSi\\Anaconda3\\lib\\site-packages\\ipykernel_launcher.py:23: WavFileWarning: Chunk (non-data) not understood, skipping it.\n"
     ]
    }
   ],
   "source": [
    "# Importing audio files and all necessary libraries \n",
    "import numpy as np\n",
    "import os\n",
    "if not os.path.exists('C:/Users/AdminSi/Desktop/Botengu Beatz/Research/Note-recognition-master/thinkdsp.py'):\n",
    "    !wget https://github.com/AllenDowney/ThinkDSP/raw/master/code/thinkdsp.py\n",
    "import matplotlib.pyplot as plt\n",
    "import pandas as pd \n",
    "import scipy\n",
    "import math \n",
    "import scipy.io.wavfile as wav\n",
    "import pyexcel\n",
    "import pyexcel_xlsx\n",
    "import sys\n",
    "sys.path.insert(1, 'C:/Users/AdminSi/Desktop/Botengu Beatz/Research/Note-recognition-master/')\n",
    "from thinkdsp import read_wave\n",
    "from math import factorial as fac\n",
    "from numpy import sin, cos, sinh, cosh,arcsin,arccos, pi, exp,abs\n",
    "\n",
    "# Return the position on the \n",
    "\n",
    "path = 'C:/Users/AdminSi/Desktop/Botengu Beatz/Research/Note-recognition-master/S_solfege.wav'\n",
    "song = read_wave(path)\n",
    "(source_rate, source_sig) = wav.read(path)\n",
    "dur = len(source_sig) / float(source_rate)\n",
    "\n",
    "div_num = 100\n",
    "frames_num = int(source_sig.shape[0]/div_num)\n",
    "x_axis = np.arange(frames_num)\n",
    "\n",
    "plt.plot(x_axis, source_sig[0:frames_num,:], 'r--', t, t**2, 'bs', t, t**3, 'g^')\n",
    "plt.show()\n",
    "\n",
    "print(source_sig[0:frames_num,:].shape)"
   ]
  },
  {
   "cell_type": "code",
   "execution_count": 11,
   "metadata": {},
   "outputs": [],
   "source": [
    "\n",
    "\n",
    "\n",
    "def Choose(n,k): \n",
    "    return  fac(n)/ fac(k) / fac( n - k )\n",
    "\n",
    "class spline(object):\n",
    "    def __init__(self, points):\n",
    "        self.points = np.array(points).astype(np.float32)\n",
    "\n",
    "    def at(self, t):\n",
    "        pt = 0 \n",
    "        n= len(self.points)\n",
    "        for k in range(n): \n",
    "            pt +=  Choose(n-1,k) * (1-t)**(n-1-k) * t**k * self.points[k]\n",
    "        return pt\n",
    "    \n",
    "s = 0.5\n",
    "\n",
    "basis_mat = np.array([[-s, 2-s, s-2, s],[2*s, s-3, 3-2*s,-s],[-s, 0, s,0],[0, 1, 0,0] ]) \n",
    "\n",
    "# The first and last row are repeated twice\n",
    "array = np.array([[0,0,0],[0,0,0],[1,2,0],[2,-3,0], [3,3,0],[4,0,0],[4,0,0] ])\n",
    "# Other point [4,0,0] \n",
    "\n",
    "\n",
    "count = 0 \n",
    "bigger_list= []\n",
    "list_of_pts2 = [] \n",
    "while count+4<=array.shape[0]: \n",
    "    array2 = array[count:count+4,:]\n",
    "    t = np.linspace(0,1,20) \n",
    "    for item in t:\n",
    "        t_mat = np.array([item**3,item**2,item,1 ])\n",
    "        pt = np.matmul(t_mat, np.matmul(basis_mat,array2))\n",
    "        list_of_pts2.append(pt)\n",
    "    bigger_list.append(list_of_pts2)\n",
    "\n",
    "    \n",
    "    count = count+1\n",
    "\n",
    "ini_big =np.array(bigger_list) \n",
    "bigger_list = np.reshape(ini_big,(ini_big.shape[0]*ini_big.shape[1],ini_big.shape[2]))"
   ]
  },
  {
   "cell_type": "code",
   "execution_count": 18,
   "metadata": {},
   "outputs": [
    {
     "name": "stdout",
     "output_type": "stream",
     "text": [
      "[0 1 2 3 4 5 6 7 8 9]\n"
     ]
    }
   ],
   "source": [
    "print(np.arange(10))"
   ]
  },
  {
   "cell_type": "code",
   "execution_count": null,
   "metadata": {},
   "outputs": [],
   "source": []
  }
 ],
 "metadata": {
  "kernelspec": {
   "display_name": "Python 3",
   "language": "python",
   "name": "python3"
  },
  "language_info": {
   "codemirror_mode": {
    "name": "ipython",
    "version": 3
   },
   "file_extension": ".py",
   "mimetype": "text/x-python",
   "name": "python",
   "nbconvert_exporter": "python",
   "pygments_lexer": "ipython3",
   "version": "3.7.1"
  }
 },
 "nbformat": 4,
 "nbformat_minor": 2
}
