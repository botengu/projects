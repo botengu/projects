{
 "cells": [
  {
   "cell_type": "code",
   "execution_count": 7,
   "metadata": {},
   "outputs": [
    {
     "name": "stderr",
     "output_type": "stream",
     "text": [
      "<ipython-input-7-d4e092d85356>:57: FutureWarning: `rcond` parameter will change to the default of machine precision times ``max(M, N)`` where M and N are the input matrix dimensions.\n",
      "To use the future default and silence this warning we advise to pass `rcond=None`, to keep using the old, explicitly pass `rcond=-1`.\n",
      "  U[freedofs,:] = np.linalg.lstsq(K[freedofs[:,None],freedofs],  F[freedofs,:])[0]\n"
     ]
    },
    {
     "data": {
      "image/png": "[encoded data removed]",
      "text/plain": [
       "<Figure size 432x288 with 1 Axes>"
      ]
     },
     "metadata": {
      "needs_background": "light"
     },
     "output_type": "display_data"
    }
   ],
   "source": [
    "# 2D Stress field \n",
    "\n",
    "# With contours \n",
    "\n",
    "# Creation of boundary conditions \n",
    "\n",
    "import csv\n",
    "import numpy as np \n",
    "import math \n",
    "import matplotlib.pyplot as plt\n",
    "from scipy.sparse import csr_matrix\n",
    "from scipy.sparse import coo_matrix\n",
    "from scipy.sparse.linalg import spsolve\n",
    "from matplotlib import colors\n",
    "from matplotlib import cm\n",
    "\n",
    "\n",
    "\n",
    "def lk():\n",
    "\tE=1\n",
    "\tnu=0.3\n",
    "\tk=np.array([1/2-nu/6,1/8+nu/8,-1/4-nu/12,-1/8+3*nu/8,-1/4+nu/12,-1/8-nu/8,nu/6,1/8-3*nu/8])\n",
    "\tKE = E/(1-nu**2)*np.array([ [k[0], k[1], k[2], k[3], k[4], k[5], k[6], k[7]],\n",
    "\t[k[1], k[0], k[7], k[6], k[5], k[4], k[3], k[2]],\n",
    "\t[k[2], k[7], k[0], k[5], k[6], k[3], k[4], k[1]],\n",
    "\t[k[3], k[6], k[5], k[0], k[7], k[2], k[1], k[4]],\n",
    "\t[k[4], k[5], k[6], k[7], k[0], k[1], k[2], k[3]],\n",
    "\t[k[5], k[4], k[3], k[2], k[1], k[0], k[7], k[6]],\n",
    "\t[k[6], k[3], k[4], k[1], k[2], k[7], k[0], k[5]],\n",
    "\t[k[7], k[2], k[1], k[4], k[3], k[6], k[5], k[0]] ])\n",
    "\treturn (KE)\n",
    "\n",
    "def FE(nelx,nely,x): \n",
    "\tKE=lk()\n",
    "\tK = np.zeros( (2*(nelx+1)*(nely+1), 2*(nelx+1)*(nely+1)),dtype=float)\n",
    "\tK = csr_matrix(K).todense()\n",
    "\tF = np.zeros((2*(nely+1)*(nelx+1), 1), dtype=float)\n",
    "\tF = csr_matrix(F).todense()\n",
    "\tU = np.zeros((2*(nely+1)*(nelx+1),1), dtype=float)\n",
    "\n",
    "\tfor elx in range(nelx):\n",
    "\t\tfor ely in range(nely):\n",
    "\t\t\tn1=(nely+1)*(elx)+ely+1\n",
    "\t\t\tn2=(nely+1)*(elx+1)+ely+1\n",
    "\t\t\tedof = np.array([2*n1-2, 2*n1-1, 2*n2-2, 2*n2-1, 2*n2, 2*n2+1, 2*n1, 2*n1+1])\n",
    "\n",
    "\t\t\tK[edof[:,None], edof] = K[edof[:,None], edof]  + x[ely,elx]*KE \n",
    "\n",
    "\t#K = np.nan_to_num(K)  \n",
    "\t#print(np.isnan(K).any())\n",
    "\tF[2*(nelx+1)*(nely+1)-1]= -1 \n",
    "\n",
    "\talldofs  =  list(np.arange(2*(nely+1)*(nelx+1)))\n",
    "\tfixeddofs = list( np.arange(2*(nely+1)))\n",
    "\tfreedofs = np.array((list(set(alldofs) - set(fixeddofs))))\n",
    "\n",
    "\tU[freedofs,:] = np.linalg.lstsq(K[freedofs[:,None],freedofs],  F[freedofs,:])[0]\n",
    "\tU[fixeddofs,:]= 0 \n",
    "\n",
    "\treturn U, K \n",
    "\t\n",
    "\n",
    "\n",
    "# Actual drive  of the program \n",
    "nely = 10\n",
    "nelx = 10\n",
    "\n",
    "\n",
    "# Initialize \n",
    "x=np.ones([nely,nelx],dtype=float) \n",
    "\n",
    "\n",
    "#xold = x.copy() \n",
    "U, K = FE(nelx, nely,x)\n",
    "\n",
    "\n",
    "# The array of nelx and nely \n",
    "\n",
    "X,Y = np.meshgrid(np.arange(0, nely+1),np.arange(0, nelx+1))\n",
    "\n",
    "Ure = np.reshape(U,(nely+1,nelx+1,2))\n",
    "U1 = Ure[:,:,0]\n",
    "U2 = Ure[:,:,1]\n",
    "\n",
    "\n",
    "'''\n",
    "plt.figure()\n",
    "plt.title('Displacement Plot')\n",
    "Q = plt.quiver(Y, X, U1, U2, units='width')\n",
    "plt.show()\n",
    "'''\n",
    "c = np.zeros([nely+1,nelx+1],dtype=float)         \n",
    "\n",
    "# Multiply K by U to get forces\n",
    "# https://matplotlib.org/3.1.0/api/_as_gen/matplotlib.pyplot.quiver.html\n",
    "for i in range(nely+1):\n",
    "    for j in range(nelx+1): \n",
    "        c[i,j] = Ure[i,j,:].dot(Ure[i,j,:])\n",
    "\n",
    "colorsa = cm.coolwarm(c/np.max(c))\n",
    "\n",
    "for x, y in [(x,y) for x in range(nely+1) for y in range(nelx+1)]:\n",
    "    plt.scatter(x, nelx-y, color=colorsa[x,y,:])\n",
    "\n",
    "#plt.plot(Y, X, 'o', color=colorsa);"
   ]
  },
  {
   "cell_type": "code",
   "execution_count": 65,
   "metadata": {},
   "outputs": [
    {
     "name": "stdout",
     "output_type": "stream",
     "text": [
      "0.10107548508214613\n",
      "1.0\n"
     ]
    }
   ],
   "source": [
    "print(np.average(c/np.max(c)))\n",
    "print(np.max((c/np.max(c))))\n"
   ]
  },
  {
   "cell_type": "code",
   "execution_count": 5,
   "metadata": {},
   "outputs": [
    {
     "name": "stdout",
     "output_type": "stream",
     "text": [
      "(242, 1)\n"
     ]
    }
   ],
   "source": [
    "print(U.shape)"
   ]
  },
  {
   "cell_type": "code",
   "execution_count": null,
   "metadata": {},
   "outputs": [],
   "source": []
  }
 ],
 "metadata": {
  "kernelspec": {
   "display_name": "Python 3",
   "language": "python",
   "name": "python3"
  },
  "language_info": {
   "codemirror_mode": {
    "name": "ipython",
    "version": 3
   },
   "file_extension": ".py",
   "mimetype": "text/x-python",
   "name": "python",
   "nbconvert_exporter": "python",
   "pygments_lexer": "ipython3",
   "version": "3.8.5"
  }
 },
 "nbformat": 4,
 "nbformat_minor": 4
}
