{
 "cells": [
  {
   "cell_type": "code",
   "execution_count": 1,
   "metadata": {},
   "outputs": [],
   "source": [
    "import numpy as np\n",
    "import visvis as vv\n",
    "import math   \n",
    "import skimage\n",
    "from numpy import sin, cos, sinh, cosh, pi, exp, sqrt, min, max \n",
    "from skimage import measure\n",
    "from visvis import Point, Pointset\n",
    "from numpy import inf"
   ]
  },
  {
   "cell_type": "code",
   "execution_count": 2,
   "metadata": {},
   "outputs": [
    {
     "name": "stdout",
     "output_type": "stream",
     "text": [
      "[[ 0.   0.8  0.2  0.1  0.   0.   0.   0. ]\n",
      " [ 0.8 20.   0.8  0.2  0.1  0.   0.   0. ]\n",
      " [ 0.2  0.8 20.   0.8  0.2  0.1  0.   0. ]\n",
      " [ 0.1  0.2  0.8 20.   0.8  0.2  0.1  0. ]\n",
      " [ 0.   0.1  0.2  0.8 20.   0.8  0.2  0.1]\n",
      " [ 0.   0.   0.1  0.2  0.8 20.   0.8  0.2]\n",
      " [ 0.   0.   0.   0.1  0.2  0.8 20.   0.8]\n",
      " [ 0.   0.   0.   0.   0.1  0.2  0.8  0. ]]\n"
     ]
    },
    {
     "name": "stderr",
     "output_type": "stream",
     "text": [
      "<ipython-input-2-ea3036687623>:7: RuntimeWarning: divide by zero encountered in true_divide\n",
      "  func = R**2/(a*Y-b*X)**2\n"
     ]
    }
   ],
   "source": [
    "def cylinder(X,Y):  \n",
    "    tol = 0.1\n",
    "    p1 = np.array([1,1,1])\n",
    "    p2 = np.array([10,10,10])\n",
    "    a = 1; b = 1; c = 1; d = -1 \n",
    "    R =1\n",
    "    func = R**2/(a*Y-b*X)**2\n",
    "\n",
    "    return func\n",
    "\n",
    "def heavi(arr, thres):\n",
    "    arr[arr < thres] = 0\n",
    "    arr[arr > thres] = 1\n",
    "    return arr\n",
    "\n",
    "def removeinf(arr):\n",
    "    arr[arr == inf] = 20\n",
    "    return arr\n",
    "\n",
    "def circle(x,y): \n",
    "    return 10/((x)**2 + (y)**2)\n",
    "\n",
    "\n",
    "perc = 0.7\n",
    "a = 6; b = 6 ; c = 6; \n",
    "\n",
    "arr = np.ones((a,b,c))\n",
    "fac = 4 \n",
    "\n",
    "bot_x = -fac\n",
    "top_x = fac\n",
    "\n",
    "bot_y = -fac\n",
    "top_y = fac\n",
    "\n",
    "\n",
    "n = 2*fac # More of a scale then a resolution  \n",
    "\n",
    "x = np.linspace(bot_x,top_x,n)\n",
    "y = np.linspace(bot_y,top_y,n)\n",
    "X, Y =  np.meshgrid(x, y)\n",
    "\n",
    "#vol = heavi(cylinder(X,Y),0.4) +circle(X,Y)\n",
    "#vol = heavi(cylinder(X,Y),0.4)\n",
    "#vol = cylinder(X,Y)\n",
    "vol = np.multiply(removeinf(cylinder(X,Y)), heavi(circle(X,Y),0.4))\n",
    "\n",
    "# Find a way to change the number from inf  to an actual number \n",
    "\n",
    "print(np.around(vol, decimals=1))"
   ]
  },
  {
   "cell_type": "code",
   "execution_count": null,
   "metadata": {},
   "outputs": [],
   "source": []
  }
 ],
 "metadata": {
  "kernelspec": {
   "display_name": "Python 3",
   "language": "python",
   "name": "python3"
  },
  "language_info": {
   "codemirror_mode": {
    "name": "ipython",
    "version": 3
   },
   "file_extension": ".py",
   "mimetype": "text/x-python",
   "name": "python",
   "nbconvert_exporter": "python",
   "pygments_lexer": "ipython3",
   "version": "3.8.2"
  }
 },
 "nbformat": 4,
 "nbformat_minor": 4
}
