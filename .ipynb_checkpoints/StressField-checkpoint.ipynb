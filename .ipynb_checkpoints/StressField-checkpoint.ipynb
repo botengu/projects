{
 "cells": [
  {
   "cell_type": "code",
   "execution_count": 30,
   "metadata": {},
   "outputs": [
    {
     "name": "stdout",
     "output_type": "stream",
     "text": [
      "[[ 0.]\n",
      " [ 0.]\n",
      " [ 0.]\n",
      " [ 0.]\n",
      " [ 0.]\n",
      " [ 0.]\n",
      " [ 0.]\n",
      " [ 0.]\n",
      " [ 0.]\n",
      " [ 0.]\n",
      " [ 0.]\n",
      " [ 0.]\n",
      " [ 0.]\n",
      " [-1.]\n",
      " [ 0.]\n",
      " [ 0.]\n",
      " [ 0.]\n",
      " [ 0.]\n",
      " [ 0.]\n",
      " [ 0.]\n",
      " [ 0.]\n",
      " [ 0.]\n",
      " [ 0.]\n",
      " [ 0.]\n",
      " [ 0.]\n",
      " [ 0.]\n",
      " [ 0.]\n",
      " [ 0.]\n",
      " [ 0.]\n",
      " [ 0.]\n",
      " [ 0.]\n",
      " [ 0.]]\n"
     ]
    },
    {
     "name": "stderr",
     "output_type": "stream",
     "text": [
      "<ipython-input-30-1e07b6890830>:60: FutureWarning: `rcond` parameter will change to the default of machine precision times ``max(M, N)`` where M and N are the input matrix dimensions.\n",
      "To use the future default and silence this warning we advise to pass `rcond=None`, to keep using the old, explicitly pass `rcond=-1`.\n",
      "  U[freedofs,:] = np.linalg.lstsq(K[freedofs[:,None],freedofs],  F[freedofs,:])[0]\n"
     ]
    },
    {
     "data": {
      "image/png": "[encoded data removed]",
      "text/plain": [
       "<Figure size 432x288 with 1 Axes>"
      ]
     },
     "metadata": {
      "needs_background": "light"
     },
     "output_type": "display_data"
    },
    {
     "data": {
      "text/plain": [
       "\"\\nc = np.zeros([nely+1,nelx+1],dtype=float)         \\n\\n# Multiply K by U to get forces\\n# https://matplotlib.org/3.1.0/api/_as_gen/matplotlib.pyplot.quiver.html\\nfor i in range(nely+1):\\n    for j in range(nelx+1): \\n        c[i,j] = Ure[i,j,:].dot(Ure[i,j,:])\\n\\n#colorsa = cm.coolwarm(c/np.max(c))\\n\\ncolorsa = cm.coolwarm(strain/np.max(strain))\\n\\nfor x, y in [(x,y) for x in range(nely+1) for y in range(nelx+1)]:\\n    plt.scatter(x, y, color=colorsa[x,y,:])\\n\\n#plt.plot(Y, X, 'o', color=colorsa);\\n\""
      ]
     },
     "execution_count": 30,
     "metadata": {},
     "output_type": "execute_result"
    }
   ],
   "source": [
    "# 2D Stress field \n",
    "\n",
    "# With contours \n",
    "\n",
    "# Creation of boundary conditions \n",
    "\n",
    "import csv\n",
    "import numpy as np \n",
    "import math \n",
    "import matplotlib.pyplot as plt\n",
    "from scipy.sparse import csr_matrix\n",
    "from scipy.sparse import coo_matrix\n",
    "from scipy.sparse.linalg import spsolve\n",
    "from matplotlib import colors\n",
    "from matplotlib import cm\n",
    "\n",
    "\n",
    "\n",
    "def lk():\n",
    "    E=1\n",
    "    nu=0.3\n",
    "    k=np.array([1/2-nu/6,1/8+nu/8,-1/4-nu/12,-1/8+3*nu/8,-1/4+nu/12,-1/8-nu/8,nu/6,1/8-3*nu/8])\n",
    "    KE = E/(1-nu**2)*np.array([ [k[0], k[1], k[2], k[3], k[4], k[5], k[6], k[7]],\n",
    "    [k[1], k[0], k[7], k[6], k[5], k[4], k[3], k[2]],\n",
    "    [k[2], k[7], k[0], k[5], k[6], k[3], k[4], k[1]],\n",
    "    [k[3], k[6], k[5], k[0], k[7], k[2], k[1], k[4]],\n",
    "    [k[4], k[5], k[6], k[7], k[0], k[1], k[2], k[3]],\n",
    "    [k[5], k[4], k[3], k[2], k[1], k[0], k[7], k[6]],\n",
    "    [k[6], k[3], k[4], k[1], k[2], k[7], k[0], k[5]],\n",
    "    [k[7], k[2], k[1], k[4], k[3], k[6], k[5], k[0]] ])\n",
    "    return (KE)\n",
    "\n",
    "def FE(nelx,nely,x): \n",
    "    KE=lk()\n",
    "    K = np.zeros( (2*(nelx+1)*(nely+1), 2*(nelx+1)*(nely+1)),dtype=float)\n",
    "    K = csr_matrix(K).todense()\n",
    "    \n",
    "    \n",
    "    F = np.zeros((2*(nely+1)*(nelx+1), 1), dtype=float)\n",
    "    \n",
    "    F = csr_matrix(F).todense()\n",
    "    U = np.zeros((2*(nely+1)*(nelx+1),1), dtype=float)\n",
    "\n",
    "    for elx in range(nelx):\n",
    "        for ely in range(nely):\n",
    "            n1=(nely+1)*(elx)+ely+1\n",
    "            n2=(nely+1)*(elx+1)+ely+1\n",
    "            edof = np.array([2*n1-2, 2*n1-1, 2*n2-2, 2*n2-1, 2*n2, 2*n2+1, 2*n1, 2*n1+1])\n",
    "\n",
    "            K[edof[:,None], edof] = K[edof[:,None], edof]  + x[ely,elx]*KE \n",
    "\n",
    "    # FORCE IS HERE\n",
    "    F[2*(int(nelx/2+1))*(nely+1)-3]= -1\n",
    "    print(F)\n",
    "    alldofs  =  list(np.arange(2*(nely+1)*(nelx+1)))\n",
    "    #fixeddofs = list( np.arange(2*(nely+1)))\n",
    "    fixeddofs =[2*(nely+1)-2,2*(nely+1)-1,2*(nely+1)*(nelx+1)-2,2*(nely+1)*(nelx+1)-1]\n",
    "    fixeddofs =[2*(nely+1)-2,2*(nely+1)-1,2*(nely+1)*(nelx+1)-2,2*(nely+1)*(nelx+1)-1]\n",
    "    freedofs = np.array((list(set(alldofs) - set(fixeddofs))))\n",
    "\n",
    "    U[freedofs,:] = np.linalg.lstsq(K[freedofs[:,None],freedofs],  F[freedofs,:])[0]\n",
    "    U[fixeddofs,:]= 0 \n",
    "\n",
    "    return U, K \n",
    "\n",
    "\n",
    "\n",
    "# Actual drive  of the program \n",
    "nely = 3\n",
    "nelx = 3\n",
    "\n",
    "\n",
    "# Initialize \n",
    "x=np.ones([nely,nelx],dtype=float) \n",
    "\n",
    "\n",
    "#xold = x.copy() \n",
    "U, K = FE(nelx, nely,x)\n",
    "\n",
    "\n",
    "\n",
    "\n",
    "# The array of nelx and nely \n",
    "X,Y = np.meshgrid(np.arange(0, nely+1),np.arange(0, nelx+1))\n",
    "Ure = np.reshape(U,(nely+1,nelx+1,2))\n",
    "U1 = Ure[:,:,0]\n",
    "U2 = Ure[:,:,1]\n",
    "\n",
    "strain = 1/2*(U1+U2)\n",
    "\n",
    "\n",
    "plt.figure()\n",
    "plt.title('Displacement Plot')\n",
    "Q = plt.quiver(Y, X, U1, U2, units='width')\n",
    "plt.show()\n",
    "\n",
    "'''\n",
    "c = np.zeros([nely+1,nelx+1],dtype=float)         \n",
    "\n",
    "# Multiply K by U to get forces\n",
    "# https://matplotlib.org/3.1.0/api/_as_gen/matplotlib.pyplot.quiver.html\n",
    "for i in range(nely+1):\n",
    "    for j in range(nelx+1): \n",
    "        c[i,j] = Ure[i,j,:].dot(Ure[i,j,:])\n",
    "\n",
    "#colorsa = cm.coolwarm(c/np.max(c))\n",
    "\n",
    "colorsa = cm.coolwarm(strain/np.max(strain))\n",
    "\n",
    "for x, y in [(x,y) for x in range(nely+1) for y in range(nelx+1)]:\n",
    "    plt.scatter(x, y, color=colorsa[x,y,:])\n",
    "\n",
    "#plt.plot(Y, X, 'o', color=colorsa);\n",
    "'''"
   ]
  },
  {
   "cell_type": "code",
   "execution_count": 65,
   "metadata": {},
   "outputs": [
    {
     "name": "stdout",
     "output_type": "stream",
     "text": [
      "0.10107548508214613\n",
      "1.0\n"
     ]
    }
   ],
   "source": [
    "print(np.average(c/np.max(c)))\n",
    "print(np.max((c/np.max(c))))\n"
   ]
  },
  {
   "cell_type": "code",
   "execution_count": 2,
   "metadata": {},
   "outputs": [
    {
     "data": {
      "text/plain": [
       "array([[ 0.        ,  0.        ,  0.        ,  0.        ,  0.        ,\n",
       "         0.        ,  0.        ,  0.        ,  0.        ,  0.        ,\n",
       "         0.        ],\n",
       "       [-0.70573805, -0.38902825, -0.2580848 , -0.16398877, -0.08617423,\n",
       "        -0.01164245,  0.06754687,  0.15777677,  0.26726119,  0.40856594,\n",
       "         0.71113237],\n",
       "       [-1.22493704, -0.79395908, -0.52155354, -0.33463841, -0.17979974,\n",
       "        -0.03160806,  0.12789681,  0.31323048,  0.53926663,  0.84062825,\n",
       "         1.2640104 ],\n",
       "       [-1.64508725, -1.13968796, -0.77696306, -0.50612185, -0.27964679,\n",
       "        -0.06083001,  0.17781273,  0.45864519,  0.80202586,  1.22682591,\n",
       "         1.74660223],\n",
       "       [-1.98573583, -1.42525244, -1.00134593, -0.66827254, -0.38149096,\n",
       "        -0.10060633,  0.21023219,  0.58130443,  1.03328506,  1.57193927,\n",
       "         2.18716386],\n",
       "       [-2.24784514, -1.6514506 , -1.18742866, -0.81081868, -0.47924728,\n",
       "        -0.15041816,  0.21866489,  0.66807633,  1.22390134,  1.88173753,\n",
       "         2.60253216],\n",
       "       [-2.43106052, -1.8193984 , -1.33151749, -0.92602747, -0.56443316,\n",
       "        -0.20483978,  0.20127435,  0.70899585,  1.36277691,  2.15943557,\n",
       "         3.0155163 ],\n",
       "       [-2.53916055, -1.93205448, -1.43157433, -1.0066137 , -0.62574787,\n",
       "        -0.25047915,  0.16896887,  0.69975991,  1.4315182 ,  2.39905285,\n",
       "         3.46326162],\n",
       "       [-2.58463893, -1.99593026, -1.48782008, -1.04722988, -0.65142849,\n",
       "        -0.26690609,  0.15173326,  0.67053682,  1.40373532,  2.56600233,\n",
       "         4.02099561],\n",
       "       [-2.59144938, -2.02186139, -1.50565589, -1.04957193, -0.63681983,\n",
       "        -0.23736034,  0.18896856,  0.69761466,  1.38437518,  2.51450048,\n",
       "         4.78379979],\n",
       "       [-2.58935125, -2.02703228, -1.50263102, -1.02979726, -0.59404855,\n",
       "        -0.16647261,  0.29234982,  0.83610355,  1.55746176,  2.68282691,\n",
       "         5.6014975 ]])"
      ]
     },
     "execution_count": 2,
     "metadata": {},
     "output_type": "execute_result"
    }
   ],
   "source": [
    "Ure[:,:,0]"
   ]
  },
  {
   "cell_type": "code",
   "execution_count": null,
   "metadata": {},
   "outputs": [],
   "source": []
  }
 ],
 "metadata": {
  "kernelspec": {
   "display_name": "Python 3",
   "language": "python",
   "name": "python3"
  },
  "language_info": {
   "codemirror_mode": {
    "name": "ipython",
    "version": 3
   },
   "file_extension": ".py",
   "mimetype": "text/x-python",
   "name": "python",
   "nbconvert_exporter": "python",
   "pygments_lexer": "ipython3",
   "version": "3.8.5"
  }
 },
 "nbformat": 4,
 "nbformat_minor": 4
}
