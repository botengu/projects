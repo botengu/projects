{
 "cells": [
  {
   "cell_type": "code",
   "execution_count": 1,
   "metadata": {},
   "outputs": [
    {
     "name": "stdout",
     "output_type": "stream",
     "text": [
      "Using matplotlib backend: Qt5Agg\n"
     ]
    },
    {
     "name": "stderr",
     "output_type": "stream",
     "text": [
      "<ipython-input-1-815e6bce573c>:71: UserWarning: The following kwargs were not used by contour: 'lw'\n",
      "  cax = ax.contour(x, y, G1[0,...], **contour_opts)\n",
      "<ipython-input-1-815e6bce573c>:75: UserWarning: The following kwargs were not used by contour: 'lw'\n",
      "  ax.contour(x, y, G1[i,...], **contour_opts)\n"
     ]
    }
   ],
   "source": [
    "import numpy as np\n",
    "import matplotlib.pyplot as plt\n",
    "from matplotlib.animation import FuncAnimation\n",
    "from numpy import sin, cos, sinh, cosh,arcsin,arccos, pi, exp,abs, sqrt\n",
    "from math import factorial as fac\n",
    "\n",
    "plt.style.use('ggplot')\n",
    "%matplotlib\n",
    "fig, ax = plt.subplots(figsize=(10, 10))\n",
    "ax.set(xlim=(0, 15), ylim=(0, 15))\n",
    "\n",
    "\n",
    "x = np.linspace(0, 15, 90)\n",
    "y = np.linspace(0, 15, 90)\n",
    "X3, Y3= np.meshgrid(x, y)\n",
    "\n",
    "def dist(a,b):\n",
    "    return sqrt((b[0]-a[0])**2+(b[1]-a[1])**2)\n",
    "\n",
    "def Choose(n,k): \n",
    "    return  fac(n)/ fac(k) / fac( n - k )\n",
    "\n",
    "class nBezier(object):\n",
    "    def __init__(self, points):\n",
    "        self.points = np.array(points).astype(np.float32)\n",
    "\n",
    "    def at(self, t):\n",
    "        pt = 0 \n",
    "        n= len(self.points)\n",
    "        for k in range(n): \n",
    "            pt +=  Choose(n-1,k) * (1-t)**(n-1-k) * t**k * self.points[k]\n",
    "        return pt\n",
    "\n",
    "\n",
    "def circles(X3,Y3): \n",
    "    # Direction \n",
    "    func = 0 \n",
    "    r = 0.15\n",
    "    # Greater array \n",
    "    total = [] \n",
    "    # add a scale coefficient \n",
    "    # move all odds/even half of one \n",
    "    for i in range(1,15):\n",
    "        for j in range(1,15):\n",
    "            func += (r)**2/((X3-i)**2+(Y3-(j+0.5*(i%2)))**2)**1.2\n",
    "    # Do a copy \n",
    "    total.append(func.copy())\n",
    "    \n",
    "    total1 = [] \n",
    "\n",
    "    total1.append([0,0])\n",
    "    #array = np.array([[1,1],[1,14],[14,14], [14,1]])\n",
    "    array = np.array([[1,1],[14,14]])\n",
    "    Curve  = nBezier(array)\n",
    "    t = np.linspace(0,1,70) \n",
    "    for  item in t:\n",
    "        arr = Curve.at(item)\n",
    "        total1.append(arr.copy())\n",
    "        func+= (1.1*r/2)**2/((X3-arr[0])**2+(Y3-arr[1])**2)\n",
    "        total.append(func.copy())\n",
    "        \n",
    "\n",
    "    return np.array(total), np.array(total1)\n",
    "\n",
    "\n",
    "G1,G2 = circles(X3,Y3)\n",
    "\n",
    "\n",
    "contour_opts = {'levels': np.array([0.6]),\n",
    "                'cmap':'RdBu', 'lw': 2}\n",
    "cax = ax.contour(x, y, G1[0,...], **contour_opts)\n",
    "\n",
    "def animate(i):\n",
    "    ax.collections = []\n",
    "    ax.contour(x, y, G1[i,...], **contour_opts)\n",
    "    ax.scatter(G2[i,0],G2[i,1],c='red')\n",
    "    \n",
    "anim = FuncAnimation(fig, animate, interval=150,frames=71)\n",
    "\n",
    "\n",
    "plt.draw()\n",
    "plt.show()\n",
    "\n",
    "#anim.save('straight.mp4')"
   ]
  },
  {
   "cell_type": "code",
   "execution_count": null,
   "metadata": {},
   "outputs": [],
   "source": []
  }
 ],
 "metadata": {
  "kernelspec": {
   "display_name": "Python 3",
   "language": "python",
   "name": "python3"
  },
  "language_info": {
   "codemirror_mode": {
    "name": "ipython",
    "version": 3
   },
   "file_extension": ".py",
   "mimetype": "text/x-python",
   "name": "python",
   "nbconvert_exporter": "python",
   "pygments_lexer": "ipython3",
   "version": "3.8.5"
  }
 },
 "nbformat": 4,
 "nbformat_minor": 4
}
