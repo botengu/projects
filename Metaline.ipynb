{
 "cells": [
  {
   "cell_type": "code",
   "execution_count": 1,
   "metadata": {},
   "outputs": [],
   "source": [
    "import numpy as np\n",
    "import random\n",
    "import visvis as vv\n",
    "import scipy\n",
    "import math \n",
    "import skimage\n",
    "\n",
    "from math import factorial as fac\n",
    "from skimage import measure\n",
    "from numpy import sin, cos, sinh, cosh,arcsin,arccos, pi, exp,abs,sqrt\n",
    "from visvis import Point, Pointset\n",
    "from scipy.spatial import Voronoi, voronoi_plot_2d, distance\n",
    "\n",
    "# Finite charged line\n",
    "# Set up mesh\n",
    "# Create TPMS function \n",
    "    \n",
    "def Meta_line(x,y,z):\n",
    "    return 1/(z)*(2/sqrt(z**2+y**2+2**2)+1/sqrt(z**2+y**2+1**2))\n",
    "\n",
    "\n",
    "\n",
    "\n",
    "fac = 30  # Should be odd number\n",
    "\n",
    "bot_x = -fac\n",
    "top_x = fac\n",
    "\n",
    "bot_y = -fac\n",
    "top_y = fac\n",
    "\n",
    "bot_z = -fac\n",
    "top_z = fac\n",
    "\n",
    "n = 10*fac # More of a scale then a resolution  \n",
    "\n",
    "x = np.linspace(bot_x,top_x,n)\n",
    "y = np.linspace(bot_y,top_y,n)\n",
    "z = np.linspace(bot_z,top_z,n)\n",
    "X, Y, Z =  np.meshgrid(x, y, z)\n",
    "\n",
    "\n",
    "vol = Meta_line(X,Y,Z) \n",
    "\n",
    "# Extract a 2D surface mesh from a 3D volume (F=0)\n",
    "mesh = vv.isosurface(vol,0)\n",
    "m = vv.mesh(mesh)\n",
    "\n",
    "#vv.meshWrite(os.path.expanduser('~/Desktop/CAGD/stlFiles/alone-sphere.stl'), m)\n",
    "app = vv.use()\n",
    "app.Run()\n",
    "\n",
    "\n",
    "\n",
    "\n"
   ]
  },
  {
   "cell_type": "code",
   "execution_count": null,
   "metadata": {},
   "outputs": [],
   "source": []
  }
 ],
 "metadata": {
  "kernelspec": {
   "display_name": "Python 3",
   "language": "python",
   "name": "python3"
  },
  "language_info": {
   "codemirror_mode": {
    "name": "ipython",
    "version": 3
   },
   "file_extension": ".py",
   "mimetype": "text/x-python",
   "name": "python",
   "nbconvert_exporter": "python",
   "pygments_lexer": "ipython3",
   "version": "3.8.5"
  }
 },
 "nbformat": 4,
 "nbformat_minor": 4
}
