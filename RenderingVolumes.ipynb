{
 "cells": [
  {
   "cell_type": "code",
   "execution_count": 8,
   "metadata": {},
   "outputs": [],
   "source": [
    "import visvis as vv\n",
    "import numpy as np\n",
    "import random\n",
    "import visvis as vv\n",
    "import scipy\n",
    "import math \n",
    "import skimage\n",
    "from skimage import measure\n",
    "from numpy import sin, cos, sinh, cosh,arcsin,arccos, pi, exp\n",
    "from visvis import Point, Pointset\n",
    "from scipy.spatial import Voronoi, voronoi_plot_2d, distance "
   ]
  },
  {
   "cell_type": "code",
   "execution_count": 11,
   "metadata": {},
   "outputs": [
    {
     "name": "stdout",
     "output_type": "stream",
     "text": [
      "<visvis.wobjects.sliceTextures.SliceTextureProxy object at 0x00000120769EAFA0>\n"
     ]
    }
   ],
   "source": [
    "vol = vv.aVolume()\n",
    "\n",
    "t = vv.volshow2(vol)\n",
    "t.colormap = vv.CM_HOT\n",
    "t.edgeColor = (0.8, 0.8, 0.8)\n",
    "\n",
    "print(t)\n",
    "app = vv.use()\n",
    "app.Run()"
   ]
  },
  {
   "cell_type": "code",
   "execution_count": null,
   "metadata": {},
   "outputs": [],
   "source": []
  }
 ],
 "metadata": {
  "kernelspec": {
   "display_name": "Python 3",
   "language": "python",
   "name": "python3"
  },
  "language_info": {
   "codemirror_mode": {
    "name": "ipython",
    "version": 3
   },
   "file_extension": ".py",
   "mimetype": "text/x-python",
   "name": "python",
   "nbconvert_exporter": "python",
   "pygments_lexer": "ipython3",
   "version": "3.8.2"
  }
 },
 "nbformat": 4,
 "nbformat_minor": 4
}
